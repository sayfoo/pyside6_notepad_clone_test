{
 "cells": [
  {
   "cell_type": "markdown",
   "source": [
    "# QColorDialog\n",
    "\n",
    "\n",
    "컬러 다이얼로그 (QColorDialog)는 색상을 선택할 수 있는 다이얼로그입니다. (QColorDialog 공식 문서 참고)"
   ],
   "metadata": {
    "collapsed": false,
    "pycharm": {
     "name": "#%% md\n"
    }
   }
  },
  {
   "cell_type": "code",
   "execution_count": 5,
   "outputs": [
    {
     "name": "stdout",
     "output_type": "stream",
     "text": [
      "col.name() = '#000000'\n",
      "정상적으로 종료되었습니다 :종료 코드 [0]\n"
     ]
    }
   ],
   "source": [
    "## Ex 6-2. QColorDialog.\n",
    "\n",
    "import sys\n",
    "from PySide6.QtWidgets import QApplication, QWidget, QPushButton, QFrame, QColorDialog\n",
    "from PySide6.QtGui import QColor\n",
    "\n",
    "\n",
    "class MyApp(QWidget):\n",
    "\n",
    "    def __init__(self):\n",
    "        super().__init__()\n",
    "        self.initUI()\n",
    "\n",
    "    def initUI(self):\n",
    "        col = QColor(0, 0, 0)\n",
    "\n",
    "        self.btn = QPushButton('Dialog', self)\n",
    "        self.btn.move(30, 30)\n",
    "        self.btn.clicked.connect(self.showDialog)\n",
    "\n",
    "        self.frm = QFrame(self)\n",
    "        print(f\"{col.name() = }\")\n",
    "        self.frm.setStyleSheet('QWidget { background-color: %s }' % col.name())\n",
    "        self.frm.setGeometry(130, 35, 100, 100)\n",
    "\n",
    "        self.setWindowTitle('Color Dialog')\n",
    "        self.setGeometry(300, 300, 250, 180)\n",
    "        self.show()\n",
    "\n",
    "    def showDialog(self):\n",
    "        col = QColorDialog.getColor()\n",
    "\n",
    "        if col.isValid():\n",
    "            self.frm.setStyleSheet('QWidget { background-color: %s }' % col.name())\n",
    "\n",
    "\n",
    "if __name__ == \"__main__\":\n",
    "    if not QApplication.instance():\n",
    "        app = QApplication(sys.argv)\n",
    "    else:\n",
    "        app = QApplication.instance()\n",
    "\n",
    "    win = MyApp()\n",
    "\n",
    "    try:\n",
    "        sys.exit(app.exec())\n",
    "    except SystemExit as e:\n",
    "        print(f\"정상적으로 종료되었습니다 :종료 코드 [{e}]\")"
   ],
   "metadata": {
    "collapsed": false,
    "pycharm": {
     "name": "#%%\n"
    }
   }
  },
  {
   "cell_type": "code",
   "execution_count": null,
   "outputs": [],
   "source": [],
   "metadata": {
    "collapsed": false,
    "pycharm": {
     "name": "#%%\n"
    }
   }
  }
 ],
 "metadata": {
  "kernelspec": {
   "display_name": "Python 3",
   "language": "python",
   "name": "python3"
  },
  "language_info": {
   "codemirror_mode": {
    "name": "ipython",
    "version": 2
   },
   "file_extension": ".py",
   "mimetype": "text/x-python",
   "name": "python",
   "nbconvert_exporter": "python",
   "pygments_lexer": "ipython2",
   "version": "2.7.6"
  }
 },
 "nbformat": 4,
 "nbformat_minor": 0
}