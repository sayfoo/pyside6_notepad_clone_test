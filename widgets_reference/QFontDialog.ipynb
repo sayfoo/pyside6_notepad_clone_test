{
 "cells": [
  {
   "cell_type": "markdown",
   "source": [
    "# QFontDialog\n",
    "폰트 다이얼로그 (QFontDialog)는 폰트를 선택할 수 있게 해주는 다이얼로그입니다. (QFontDialog 공식 문서 참고)"
   ],
   "metadata": {
    "collapsed": false,
    "pycharm": {
     "name": "#%% md\n"
    }
   }
  },
  {
   "cell_type": "code",
   "execution_count": 16,
   "outputs": [
    {
     "name": "stdout",
     "output_type": "stream",
     "text": [
      "type(font) = <class 'PySide6.QtGui.QFont'>type(ok) = <class 'bool'>\n",
      "ok = True\n",
      "type(font) = <class 'PySide6.QtGui.QFont'>type(ok) = <class 'bool'>\n",
      "ok = True\n",
      "type(font) = <class 'PySide6.QtGui.QFont'>type(ok) = <class 'bool'>\n",
      "ok = True\n",
      "type(font) = <class 'PySide6.QtGui.QFont'>type(ok) = <class 'bool'>\n",
      "ok = False\n",
      "정상적으로 종료했을까 0\n"
     ]
    }
   ],
   "source": [
    "## Ex 6-3. QFontDialog.\n",
    "\n",
    "import sys\n",
    "from PySide6.QtWidgets import (QApplication, QWidget, QVBoxLayout, QHBoxLayout,\n",
    "                              QPushButton, QSizePolicy, QLabel, QFontDialog)\n",
    "from PySide6.QtGui import Qt\n",
    "\n",
    "class QLabel(QLabel):\n",
    "    def __init__(self, parent=None):\n",
    "        super().__init__(parent)\n",
    "        self.setAlignment(Qt.AlignCenter)\n",
    "\n",
    "class MyApp(QWidget):\n",
    "\n",
    "    def __init__(self):\n",
    "        super().__init__()\n",
    "        self.initUI()\n",
    "\n",
    "    def initUI(self):\n",
    "        self.btn = QPushButton('Dialog')\n",
    "        self.btn.setSizePolicy(QSizePolicy.Fixed, QSizePolicy.Fixed)\n",
    "        self.btn.clicked.connect(self.showDialog)\n",
    "\n",
    "        self.lbl = QLabel('6월 말인데 비가 엄청오는 목요일이다.')\n",
    "\n",
    "        self.hbox = QHBoxLayout()\n",
    "        self.vbox = QVBoxLayout()\n",
    "\n",
    "        self.hbox.addStretch(1)\n",
    "        self.hbox.addWidget(self.btn)\n",
    "        self.hbox.addStretch(1)\n",
    "        self.vbox.addWidget(self.lbl)\n",
    "        self.vbox.addLayout(self.hbox)\n",
    "        self.setLayout(self.vbox)\n",
    "\n",
    "        self.setWindowTitle('Font Dialog')\n",
    "        self.setGeometry(300, 300, 600, 300)\n",
    "        self.show()\n",
    "\n",
    "    def showDialog(self):\n",
    "        ok, font = QFontDialog.getFont()\n",
    "        print(f\"{type(font) = }{type(ok) = }\")\n",
    "        print(f\"{ok = }\")\n",
    "\n",
    "        if ok:\n",
    "            self.lbl.setFont(font)\n",
    "\n",
    "\n",
    "if __name__ == '__main__':\n",
    "    if not QApplication.instance():\n",
    "        app = QApplication(sys.argv)\n",
    "    else:\n",
    "        app = QApplication.instance()\n",
    "\n",
    "    ex = MyApp()\n",
    "    try:\n",
    "        sys.exit(app.exec())\n",
    "    except SystemExit as e:\n",
    "        print(f\"정상적으로 종료했을까 {e}\")"
   ],
   "metadata": {
    "collapsed": false,
    "pycharm": {
     "name": "#%%\n"
    }
   }
  },
  {
   "cell_type": "code",
   "execution_count": null,
   "outputs": [],
   "source": [],
   "metadata": {
    "collapsed": false,
    "pycharm": {
     "name": "#%%\n"
    }
   }
  }
 ],
 "metadata": {
  "kernelspec": {
   "display_name": "Python 3",
   "language": "python",
   "name": "python3"
  },
  "language_info": {
   "codemirror_mode": {
    "name": "ipython",
    "version": 2
   },
   "file_extension": ".py",
   "mimetype": "text/x-python",
   "name": "python",
   "nbconvert_exporter": "python",
   "pygments_lexer": "ipython2",
   "version": "2.7.6"
  }
 },
 "nbformat": 4,
 "nbformat_minor": 0
}