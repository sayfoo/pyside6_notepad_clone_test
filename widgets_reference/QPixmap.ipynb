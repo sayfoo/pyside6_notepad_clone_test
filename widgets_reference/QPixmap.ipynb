{
 "cells": [
  {
   "cell_type": "markdown",
   "source": [
    "# QPixmap"
   ],
   "metadata": {
    "collapsed": false,
    "pycharm": {
     "name": "#%% md\n"
    }
   }
  },
  {
   "cell_type": "code",
   "execution_count": 14,
   "outputs": [
    {
     "name": "stdout",
     "output_type": "stream",
     "text": [
      "정상적으로 종료되었습니다 :종료 코드 [0]\n"
     ]
    }
   ],
   "source": [
    "## Ex 5-11. QTabWidget.\n",
    "\n",
    "import sys\n",
    "from PySide6.QtWidgets import (QApplication, QWidget, QTabWidget, QVBoxLayout, QHBoxLayout,\n",
    "                               QLabel)\n",
    "from PySide6.QtGui import QIcon, Qt, QPixmap, QImage, QFont\n",
    "\n",
    "\n",
    "class MyApp(QWidget):\n",
    "\n",
    "    def __init__(self):\n",
    "        super().__init__()\n",
    "        self.initUI()\n",
    "\n",
    "    def initUI(self):\n",
    "        self.tab1 = QWidget()\n",
    "        self.tab2 = QWidget()\n",
    "\n",
    "        self.tab1_image = QLabel()\n",
    "        self.tab1_label = QLabel()\n",
    "\n",
    "        self.tab2_image = QLabel()\n",
    "        self.tab2_label = QLabel()\n",
    "\n",
    "        self.pixmap = QPixmap(QImage('../img/logo_qfactory.png'))\n",
    "        self.tab1_image.setPixmap(self.pixmap)\n",
    "        self.tab1_image.setScaledContents(False)\n",
    "        self.size = f'Width: {self.pixmap.width()} Height: {self.pixmap.height()}'\n",
    "        self.tab1_label.setAlignment(Qt.AlignCenter)\n",
    "        self.tab1_label.setText(self.size)\n",
    "\n",
    "        self.pixmap = QPixmap(QImage('../img/lion_cat.png'))\n",
    "        self.tab2_image.setPixmap(self.pixmap)\n",
    "        self.tab2_image.setScaledContents(False)\n",
    "        self.tab2_image.setAlignment(Qt.AlignCenter)\n",
    "        self.size = f'Width: {self.pixmap.width()} Height: {self.pixmap.height()}'\n",
    "        self.tab2_label.setFont(QFont('Times', 20, QFont.Bold))\n",
    "        self.tab2_label.setText(self.size)\n",
    "        self.tab2_label.setAlignment(Qt.AlignCenter)\n",
    "\n",
    "        self.tab1_vlayout = QVBoxLayout()\n",
    "        self.tab2_vlayout = QVBoxLayout()\n",
    "\n",
    "        self.tab1_vlayout.addWidget(self.tab1_image)\n",
    "        self.tab1_vlayout.addWidget(self.tab1_label)\n",
    "        self.tab2_vlayout.addWidget(self.tab2_image)\n",
    "        self.tab2_vlayout.addWidget(self.tab2_label)\n",
    "\n",
    "        self.tab1.setLayout(self.tab1_vlayout)\n",
    "        self.tab2.setLayout(self.tab2_vlayout)\n",
    "\n",
    "        self.tabs = QTabWidget()\n",
    "        self.tabs.setTabPosition(QTabWidget.West)  # North, South, West, East\n",
    "        self.tabs.addTab(self.tab1, '첫번째 탭')\n",
    "        self.tabs.addTab(self.tab2, '두번째 탭')\n",
    "\n",
    "        self.vbox = QVBoxLayout()\n",
    "        self.vbox.addWidget(self.tabs)\n",
    "\n",
    "        self.setLayout(self.vbox)\n",
    "\n",
    "        self.setWindowTitle('QTabWidget')\n",
    "        self.setGeometry(300, 300, 600, 300)\n",
    "        self.show()\n",
    "\n",
    "if __name__ == '__main__':\n",
    "    if not QApplication.instance():\n",
    "        app = QApplication(sys.argv)\n",
    "    else:\n",
    "        app = QApplication.instance()\n",
    "\n",
    "    ex = MyApp()\n",
    "\n",
    "    try:\n",
    "        sys.exit(app.exec())\n",
    "    except SystemExit as e:\n",
    "        print(f\"정상적으로 종료되었습니다 :종료 코드 [{e}]\")"
   ],
   "metadata": {
    "collapsed": false,
    "pycharm": {
     "name": "#%%\n"
    }
   }
  },
  {
   "cell_type": "code",
   "execution_count": null,
   "outputs": [],
   "source": [],
   "metadata": {
    "collapsed": false,
    "pycharm": {
     "name": "#%%\n"
    }
   }
  }
 ],
 "metadata": {
  "kernelspec": {
   "display_name": "Python 3",
   "language": "python",
   "name": "python3"
  },
  "language_info": {
   "codemirror_mode": {
    "name": "ipython",
    "version": 2
   },
   "file_extension": ".py",
   "mimetype": "text/x-python",
   "name": "python",
   "nbconvert_exporter": "python",
   "pygments_lexer": "ipython2",
   "version": "2.7.6"
  }
 },
 "nbformat": 4,
 "nbformat_minor": 0
}