{
 "cells": [
  {
   "cell_type": "markdown",
   "source": [
    "# QSpinBox\n",
    "QSpinBox 클래스는 정수를 선택, 조절하도록 하는 스핀 박스 위젯을 제공합니다."
   ],
   "metadata": {
    "collapsed": false,
    "pycharm": {
     "name": "#%% md\n"
    }
   }
  },
  {
   "cell_type": "code",
   "execution_count": 8,
   "outputs": [
    {
     "name": "stdout",
     "output_type": "stream",
     "text": [
      "QApplication.instance() is called.\n",
      "정상적으로 종료되었습니다 :종료 코드 [0]\n"
     ]
    }
   ],
   "source": [
    "## Ex 5-14. QSpinBox.\n",
    "\n",
    "import sys\n",
    "from PySide6.QtWidgets import QApplication, QWidget, QLabel, QSpinBox, QVBoxLayout\n",
    "\n",
    "\n",
    "class MyApp(QWidget):\n",
    "\n",
    "    def __init__(self):\n",
    "        super().__init__()\n",
    "        self.initUI()\n",
    "\n",
    "    def initUI(self):\n",
    "        self.lbl1 = QLabel('setRange(-10, 30)')\n",
    "        self.spinbox = QSpinBox()\n",
    "        self.spinbox.setMinimum(-10)\n",
    "        self.spinbox.setMaximum(30)\n",
    "        # self.spinbox.setRange(-10, 30)\n",
    "        self.spinbox.setSingleStep(2)\n",
    "        self.lbl2 = QLabel('0')\n",
    "\n",
    "        self.spinbox.valueChanged.connect(self.value_changed)\n",
    "\n",
    "        vbox = QVBoxLayout()\n",
    "        vbox.addStretch(1)\n",
    "        vbox.addWidget(self.lbl1)\n",
    "        vbox.addStretch(1)\n",
    "        vbox.addWidget(self.spinbox)\n",
    "        vbox.addStretch(1)\n",
    "        vbox.addWidget(self.lbl2)\n",
    "        vbox.addStretch(1)\n",
    "\n",
    "        self.setLayout(vbox)\n",
    "\n",
    "        self.setWindowTitle('QSpinBox')\n",
    "        self.setGeometry(300, 300, 300, 200)\n",
    "        self.show()\n",
    "\n",
    "    def value_changed(self):\n",
    "        self.lbl2.setText(str(self.spinbox.value()))\n",
    "\n",
    "\n",
    "if __name__ == '__main__':\n",
    "    if not QApplication.instance():\n",
    "        print(f\"QApplication(sys.argv) is called.\")\n",
    "        app = QApplication(sys.argv)\n",
    "    else:\n",
    "        print(f\"QApplication.instance() is called.\")\n",
    "        app = QApplication.instance()\n",
    "\n",
    "    ex = MyApp()\n",
    "\n",
    "    try:\n",
    "        sys.exit(app.exec())\n",
    "    except SystemExit as e:\n",
    "        print(f\"정상적으로 종료되었습니다 :종료 코드 [{e}]\")"
   ],
   "metadata": {
    "collapsed": false,
    "pycharm": {
     "name": "#%%\n"
    }
   }
  },
  {
   "cell_type": "code",
   "execution_count": 2,
   "outputs": [],
   "source": [
    "import sys\n",
    "from PySide6.QtWidgets import QApplication, QWidget, QLabel, QSpinBox, QVBoxLayout"
   ],
   "metadata": {
    "collapsed": false,
    "pycharm": {
     "name": "#%%\n"
    }
   }
  },
  {
   "cell_type": "code",
   "execution_count": 13,
   "outputs": [
    {
     "data": {
      "text/plain": "False"
     },
     "execution_count": 13,
     "metadata": {},
     "output_type": "execute_result"
    }
   ],
   "source": [
    "QApplication.instance() == False"
   ],
   "metadata": {
    "collapsed": false,
    "pycharm": {
     "name": "#%%\n"
    }
   }
  },
  {
   "cell_type": "code",
   "execution_count": null,
   "outputs": [],
   "source": [],
   "metadata": {
    "collapsed": false,
    "pycharm": {
     "name": "#%%\n"
    }
   }
  }
 ],
 "metadata": {
  "kernelspec": {
   "display_name": "Python 3",
   "language": "python",
   "name": "python3"
  },
  "language_info": {
   "codemirror_mode": {
    "name": "ipython",
    "version": 2
   },
   "file_extension": ".py",
   "mimetype": "text/x-python",
   "name": "python",
   "nbconvert_exporter": "python",
   "pygments_lexer": "ipython2",
   "version": "2.7.6"
  }
 },
 "nbformat": 4,
 "nbformat_minor": 0
}