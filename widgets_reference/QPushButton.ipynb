{
 "cells": [
  {
   "cell_type": "markdown",
   "source": [
    "#### 01) QPushButton\n",
    "  * 푸시 버튼(push button) 또는 명령 버튼(command button)은\n",
    "    * 사용자가 프로그램에 명령을 내려서 어떤 동작을 하도록 할 때 사용되는 버튼이며,\n",
    "    * GUI 프로그래밍에서 가장 흔하게 사용되고 중요한 위젯입니다.-\n",
    "  ------------------------------------------------------------------------\n",
    "    * 자주 쓰이는 메서드\n",
    "  -------\n",
    "        setCheckable()\tTrue 설정 시, 누른 상태와 그렇지 않은 상태를 구분합니다.\n",
    "        toggle()\t상태를 바꿉니다.\n",
    "        setIcon()\t버튼의 아이콘을 설정합니다.\n",
    "        setEnabled()\tFalse 설정 시, 버튼을 사용할 수 없습니다.\n",
    "        isChecked()\t버튼의 선택 여부를 반환합니다.\n",
    "        setText()\t버튼에 표시될 텍스트를 설정합니다.\n",
    "        text()\t버튼에 표시된 텍스트를 반환합니다.\n",
    "  ------------------------------------------------------------------------\n",
    "    * 자주 쓰이는 시그널.\n",
    "  -------\n",
    "        시그널\t설명\n",
    "        clicked()\t버튼을 클릭할 때 발생합니다.\n",
    "        pressed()\t버튼이 눌렸을 때 발생합니다.\n",
    "        released()\t버튼을 눌렀다 뗄 때 발생합니다.\n",
    "        toggled()\t버튼의 상태가 바뀔 때 발생합니다.\n",
    "  -------"
   ],
   "metadata": {
    "collapsed": false,
    "pycharm": {
     "name": "#%% md\n"
    }
   }
  },
  {
   "cell_type": "code",
   "execution_count": 16,
   "outputs": [
    {
     "name": "stdout",
     "output_type": "stream",
     "text": [
      "정상적으로 종료되었습니다 :종료 코드 [0]\n",
      "btn1_clicked:False\n",
      "btn1_clicked:True\n",
      "btn2_clicked:False\n",
      "btn2_clicked:False\n",
      "정상적으로 종료되었습니다 :종료 코드 [0]\n"
     ]
    }
   ],
   "source": [
    "## Ex 5-1. QPushButton.\n",
    "## 세 개의 다양한 푸시 버튼을 만들었습니다.\n",
    "\n",
    "import sys\n",
    "from PySide6.QtWidgets import QApplication, QWidget, QPushButton, QVBoxLayout\n",
    "\n",
    "\n",
    "class MyApp(QWidget):\n",
    "\n",
    "    def __init__(self):\n",
    "        super().__init__()\n",
    "        self.initUI()\n",
    "\n",
    "    def initUI(self):\n",
    "        self.btn1 = QPushButton('&Button1')\n",
    "        self.btn1.setCheckable(True)\n",
    "        self.btn1.toggle()\n",
    "\n",
    "        self.btn2 = QPushButton(self)\n",
    "        self.btn2.setText('Button&2')\n",
    "\n",
    "        self.btn3 = QPushButton('Button3')\n",
    "        self.btn3.setEnabled(False)\n",
    "\n",
    "        self.vbox = QVBoxLayout()\n",
    "        self.vbox.addWidget(self.btn1)\n",
    "        self.vbox.addWidget(self.btn2)\n",
    "        self.vbox.addWidget(self.btn3)\n",
    "\n",
    "        self.setLayout(self.vbox)\n",
    "        self.setWindowTitle('QPushButton')\n",
    "        self.setGeometry(300, 300, 300, 200)\n",
    "        self.show()\n",
    "\n",
    "        self.btn1.clicked.connect(self.btn1_clicked)\n",
    "        self.btn2.clicked.connect(self.btn2_clicked)\n",
    "\n",
    "    def btn1_clicked(self, state):     # state 값은 처음엔 False 클릭 후에는 True (toggle 설정이 되어 있는 경우)\n",
    "        print(f\"btn1_clicked:{state}\")\n",
    "\n",
    "    def btn2_clicked(self, state):    # state 값은 처음엔 False 클릭 후에도 False (toggle 설정이 안되어 있는 경우)\n",
    "        print(f\"btn2_clicked:{state}\")\n",
    "\n",
    "\n",
    "\n",
    "if __name__ == '__main__':\n",
    "    if not QApplication.instance():\n",
    "        app = QApplication(sys.argv)\n",
    "    else:\n",
    "        app = QApplication.instance()\n",
    "\n",
    "    ex = MyApp()\n",
    "\n",
    "    try:\n",
    "        sys.exit(app.exec())\n",
    "    except SystemExit as e:\n",
    "        print(f\"정상적으로 종료되었습니다 :종료 코드 [{e}]\")"
   ],
   "metadata": {
    "collapsed": false,
    "pycharm": {
     "name": "#%%\n"
    }
   }
  },
  {
   "cell_type": "code",
   "execution_count": null,
   "outputs": [],
   "source": [],
   "metadata": {
    "collapsed": false,
    "pycharm": {
     "name": "#%%\n"
    }
   }
  }
 ],
 "metadata": {
  "kernelspec": {
   "display_name": "Python 3",
   "language": "python",
   "name": "python3"
  },
  "language_info": {
   "codemirror_mode": {
    "name": "ipython",
    "version": 2
   },
   "file_extension": ".py",
   "mimetype": "text/x-python",
   "name": "python",
   "nbconvert_exporter": "python",
   "pygments_lexer": "ipython2",
   "version": "2.7.6"
  }
 },
 "nbformat": 4,
 "nbformat_minor": 0
}