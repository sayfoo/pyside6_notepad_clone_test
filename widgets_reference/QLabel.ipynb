{
 "cells": [
  {
   "cell_type": "markdown",
   "source": [
    "#### 02) QLabel\n",
    "\n",
    "    * QLabel 위젯은 텍스트 또는 이미지 라벨을 만들 때 쓰입니다. 사용자와 어떤 상호작용을 제공하지는 않습니다. (QLabel 공식 문서 참고)\n",
    "\n",
    "    * 라벨은 기본적으로 수평 방향으로는 왼쪽, 수직 방향으로는 가운데 정렬이지만 setAlignment() 메서드를 통해 조절할 수 있습니다.\n",
    "\n",
    "    * 라벨을 하나 만들고, 라벨의 스타일과 관련된 몇 개의 메서드들을 사용해 보겠습니다."
   ],
   "metadata": {
    "collapsed": false,
    "pycharm": {
     "name": "#%% md\n"
    }
   }
  },
  {
   "cell_type": "code",
   "execution_count": 2,
   "outputs": [
    {
     "name": "stdout",
     "output_type": "stream",
     "text": [
      "정상적으로 종료되었습니다 :종료 코드 [0]\n"
     ]
    }
   ],
   "source": [
    "## Ex 5-2. QLabel.\n",
    "## 두 개의 라벨을 수직 박스에 넣어서 표시했습니다.\n",
    "\n",
    "import sys\n",
    "from PySide6.QtWidgets import QApplication, QWidget, QLabel, QVBoxLayout\n",
    "from PySide6.QtCore import Qt\n",
    "\n",
    "\n",
    "class MyApp(QWidget):\n",
    "\n",
    "    def __init__(self):\n",
    "        super().__init__()\n",
    "        self.initUI()\n",
    "\n",
    "    def initUI(self):\n",
    "        self.label1 = QLabel('First Label')\n",
    "        self.label1.setAlignment(Qt.AlignCenter)\n",
    "\n",
    "        self.label2 = QLabel('Second Label')\n",
    "        self.label2.setAlignment(Qt.AlignVCenter)\n",
    "\n",
    "        self.font1 = self.label1.font()\n",
    "        self.font1.setPointSize(20)\n",
    "\n",
    "        self.font2 = self.label2.font()\n",
    "        self.font2.setFamily('Times New Roman')\n",
    "        self.font2.setPointSize(20)\n",
    "        self.font2.setBold(True)\n",
    "\n",
    "        self.label1.setFont(self.font1)\n",
    "        self.label2.setFont(self.font2)\n",
    "\n",
    "\n",
    "        self.layout = QVBoxLayout()\n",
    "        self.layout.addWidget(self.label1)\n",
    "        self.layout.addWidget(self.label2)\n",
    "\n",
    "        self.setLayout(self.layout)\n",
    "\n",
    "        self.setWindowTitle('QLabel')\n",
    "        self.setGeometry(300, 300, 300, 200)\n",
    "        self.show()\n",
    "\n",
    "\n",
    "if __name__ == '__main__':\n",
    "    if not QApplication.instance():\n",
    "        app = QApplication(sys.argv)\n",
    "    else:\n",
    "        app = QApplication.instance()\n",
    "\n",
    "    ex = MyApp()\n",
    "\n",
    "    try:\n",
    "        sys.exit(app.exec())\n",
    "    except SystemExit as e:\n",
    "        print(f\"정상적으로 종료되었습니다 :종료 코드 [{e}]\")"
   ],
   "metadata": {
    "collapsed": false,
    "pycharm": {
     "name": "#%%\n"
    }
   }
  }
 ],
 "metadata": {
  "kernelspec": {
   "display_name": "Python 3",
   "language": "python",
   "name": "python3"
  },
  "language_info": {
   "codemirror_mode": {
    "name": "ipython",
    "version": 2
   },
   "file_extension": ".py",
   "mimetype": "text/x-python",
   "name": "python",
   "nbconvert_exporter": "python",
   "pygments_lexer": "ipython2",
   "version": "2.7.6"
  }
 },
 "nbformat": 4,
 "nbformat_minor": 0
}