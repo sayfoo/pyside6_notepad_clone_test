{
 "cells": [
  {
   "cell_type": "markdown",
   "source": [
    "# QTextBrowser\n",
    "\n",
    "QTextBrowser 클래스는 하이퍼텍스트 내비게이션을 포함하는 리치 텍스트 (서식있는 텍스트) 브라우저를 제공합니다.\n",
    "\n",
    "이 클래스는 읽기 전용이며, QTextEdit의 확장형으로서 하이퍼텍스트 문서의 링크들을 사용할 수 있습니다.\n",
    "\n",
    "편집 가능한 리치 텍스트 편집기를 사용하기 위해서는 QTextEdit을 사용해야 합니다.\n",
    "\n",
    "또한 하이퍼텍스트 네비게이션이 없는 텍스트 브라우저를 사용하기 위해서는 QTextEdit을 setReadOnly()를 사용해서 편집이 불가능하도록 해줍니다.\n",
    "\n",
    "짧은 리치 텍스트를 표시하기 위해서는 QLabel을 사용할 수 있습니다."
   ],
   "metadata": {
    "collapsed": false,
    "pycharm": {
     "name": "#%% md\n"
    }
   }
  },
  {
   "cell_type": "code",
   "execution_count": 1,
   "outputs": [
    {
     "name": "stdout",
     "output_type": "stream",
     "text": [
      "정상적으로 종료되었습니다 :종료 코드 [0]\n"
     ]
    }
   ],
   "source": [
    "## Ex 5-19. QTextBrowser.\n",
    "\n",
    "import sys\n",
    "from PySide6.QtWidgets import (QApplication, QWidget\n",
    ", QLineEdit, QTextBrowser, QPushButton, QVBoxLayout)\n",
    "\n",
    "\n",
    "class MyApp(QWidget):\n",
    "\n",
    "    def __init__(self):\n",
    "        super().__init__()\n",
    "        self.initUI()\n",
    "\n",
    "    def initUI(self):\n",
    "        self.le = QLineEdit()\n",
    "        self.le.returnPressed.connect(self.append_text)\n",
    "\n",
    "        self.tb = QTextBrowser()\n",
    "        self.tb.setAcceptRichText(True)\n",
    "        self.tb.setOpenExternalLinks(True)\n",
    "\n",
    "        self.clear_btn = QPushButton('Clear')\n",
    "        self.clear_btn.pressed.connect(self.clear_text)\n",
    "\n",
    "        vbox = QVBoxLayout()\n",
    "        vbox.addWidget(self.le, 0)\n",
    "        vbox.addWidget(self.tb, 1)\n",
    "        vbox.addWidget(self.clear_btn, 2)\n",
    "\n",
    "        self.setLayout(vbox)\n",
    "\n",
    "        self.setWindowTitle('QTextBrowser')\n",
    "        self.setGeometry(300, 300, 300, 300)\n",
    "        self.show()\n",
    "\n",
    "    def append_text(self):\n",
    "        text = self.le.text()\n",
    "        self.tb.append(text)\n",
    "        self.le.clear()\n",
    "\n",
    "    def clear_text(self):\n",
    "        self.tb.clear()\n",
    "\n",
    "\n",
    "if __name__ == \"__main__\":\n",
    "    if not QApplication.instance():\n",
    "        app = QApplication(sys.argv)\n",
    "    else:\n",
    "        app = QApplication.instance()\n",
    "\n",
    "    win = MyApp()\n",
    "\n",
    "    try:\n",
    "        sys.exit(app.exec())\n",
    "    except SystemExit as e:\n",
    "        print(f\"정상적으로 종료되었습니다 :종료 코드 [{e}]\")"
   ],
   "metadata": {
    "collapsed": false,
    "pycharm": {
     "name": "#%%\n"
    }
   }
  },
  {
   "cell_type": "markdown",
   "source": [
    "### 나만의 방식으로 해보자..."
   ],
   "metadata": {
    "collapsed": false,
    "pycharm": {
     "name": "#%% md\n"
    }
   }
  },
  {
   "cell_type": "code",
   "execution_count": 19,
   "outputs": [
    {
     "name": "stdout",
     "output_type": "stream",
     "text": [
      "정상적으로 종료하였습니다. [0]\n"
     ]
    }
   ],
   "source": [
    "from PySide6.QtWidgets import (QApplication, QWidget, QVBoxLayout, QHBoxLayout,\n",
    "                               QLineEdit, QTextBrowser, QPushButton)\n",
    "from PySide6.QtCore import Qt\n",
    "from PySide6.QtGui import QFont\n",
    "import sys\n",
    "\n",
    "class MyApp(QWidget):\n",
    "    def __init__(self):\n",
    "        super().__init__()\n",
    "        self.init_user_interface()\n",
    "\n",
    "    def init_user_interface(self):\n",
    "        self.line_input = QLineEdit()\n",
    "        self.line_input.setFont(QFont('Times', 20, QFont.Bold))\n",
    "        self.line_input.returnPressed.connect(self.line_input_return_pressed)\n",
    "\n",
    "        self.line_output = QTextBrowser()\n",
    "        self.line_output.setFont(QFont('Times', 20, QFont.Bold))\n",
    "\n",
    "        self.clear_output = QPushButton(\"CLEAR\")\n",
    "        self.clear_output.setFont(QFont(\"Times\", 20, QFont.Black))\n",
    "        self.clear_output.setStyleSheet(\"background-color: green; color: yellow;\")\n",
    "        self.clear_output.clicked.connect(self.clear_output_clicked)\n",
    "\n",
    "        self.vbox = QVBoxLayout()\n",
    "        self.vbox.addWidget(self.line_input)\n",
    "        self.vbox.addWidget(self.line_output)\n",
    "        self.hbox = QHBoxLayout()\n",
    "        self.hbox.addStretch(1)\n",
    "        self.hbox.addWidget(self.clear_output)\n",
    "        self.hbox.addStretch(1)\n",
    "        self.vbox.addLayout(self.hbox)\n",
    "        self.setLayout(self.vbox)\n",
    "\n",
    "\n",
    "        self.setWindowTitle(\"QTextBrowser\")\n",
    "        self.setGeometry(300,300, 600, 600)\n",
    "        self.show()\n",
    "\n",
    "    def line_input_return_pressed(self):\n",
    "        self.line_output.append(self.line_input.text())\n",
    "        self.line_input.clear()\n",
    "\n",
    "    def clear_output_clicked(self):\n",
    "        self.line_output.clear()\n",
    "\n",
    "if __name__ == \"__main__\":\n",
    "    if not QApplication.instance():\n",
    "        app = QApplication(sys.argv)\n",
    "    else:\n",
    "        app = QApplication.instance()\n",
    "\n",
    "    exe = MyApp()\n",
    "\n",
    "    try:\n",
    "        sys.exit(app.exec())\n",
    "    except SystemExit as e:\n",
    "        print(f\"정상적으로 종료하였습니다. [{e}]\")\n"
   ],
   "metadata": {
    "collapsed": false,
    "pycharm": {
     "name": "#%%\n"
    }
   }
  },
  {
   "cell_type": "code",
   "execution_count": null,
   "outputs": [],
   "source": [
    "\n"
   ],
   "metadata": {
    "collapsed": false,
    "pycharm": {
     "name": "#%%\n"
    }
   }
  }
 ],
 "metadata": {
  "kernelspec": {
   "display_name": "Python 3",
   "language": "python",
   "name": "python3"
  },
  "language_info": {
   "codemirror_mode": {
    "name": "ipython",
    "version": 2
   },
   "file_extension": ".py",
   "mimetype": "text/x-python",
   "name": "python",
   "nbconvert_exporter": "python",
   "pygments_lexer": "ipython2",
   "version": "2.7.6"
  }
 },
 "nbformat": 4,
 "nbformat_minor": 0
}