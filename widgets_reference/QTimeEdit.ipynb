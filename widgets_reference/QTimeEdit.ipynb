{
 "cells": [
  {
   "cell_type": "markdown",
   "source": [
    "# QTimeEdit\n",
    "\n",
    "QTimeEdit 위젯은 사용자에게 시간을 선택, 편집하도록 할 때 사용합니다.\n",
    "\n",
    "예제에서 QTimeEdit 객체를 하나 만들고, 현재 시간으로 표시되도록 설정해보겠습니다."
   ],
   "metadata": {
    "collapsed": false,
    "pycharm": {
     "name": "#%% md\n"
    }
   }
  },
  {
   "cell_type": "code",
   "execution_count": 5,
   "outputs": [
    {
     "name": "stdout",
     "output_type": "stream",
     "text": [
      "정상적으로 종료되었습니다 :종료 코드 [0]\n"
     ]
    }
   ],
   "source": [
    "## Ex 5-17. QTimeEdit.\n",
    "\n",
    "import sys\n",
    "from PySide6.QtWidgets import QApplication, QWidget, QLabel, QTimeEdit, QVBoxLayout\n",
    "from PySide6.QtCore import QTime\n",
    "\n",
    "\n",
    "class MyApp(QWidget):\n",
    "\n",
    "    def __init__(self):\n",
    "        super().__init__()\n",
    "        self.initUI()\n",
    "\n",
    "    def initUI(self):\n",
    "        self.lbl = QLabel('QTimeEdit')\n",
    "\n",
    "        self.timeedit = QTimeEdit()\n",
    "        self.timeedit.setTime(QTime.currentTime())\n",
    "        self.timeedit.setTimeRange(QTime(3, 00, 00), QTime(23, 30, 00))\n",
    "        self.timeedit.setDisplayFormat('hh:mm:ss')\n",
    "\n",
    "        self.vbox = QVBoxLayout()\n",
    "        self.vbox.addWidget(self.lbl)\n",
    "        self.vbox.addWidget(self.timeedit)\n",
    "        self.vbox.addStretch()\n",
    "\n",
    "        self.setLayout(self.vbox)\n",
    "\n",
    "        self.setWindowTitle('QTimeEdit')\n",
    "        self.setGeometry(300, 300, 300, 200)\n",
    "        self.show()\n",
    "\n",
    "\n",
    "if __name__ == \"__main__\":\n",
    "    if not QApplication.instance():\n",
    "        app = QApplication(sys.argv)\n",
    "    else:\n",
    "        app = QApplication.instance()\n",
    "\n",
    "    win = MyApp()\n",
    "\n",
    "    try:\n",
    "        sys.exit(app.exec())\n",
    "    except SystemExit as e:\n",
    "        print(f\"정상적으로 종료되었습니다 :종료 코드 [{e}]\")"
   ],
   "metadata": {
    "collapsed": false,
    "pycharm": {
     "name": "#%%\n"
    }
   }
  },
  {
   "cell_type": "code",
   "execution_count": null,
   "outputs": [],
   "source": [],
   "metadata": {
    "collapsed": false,
    "pycharm": {
     "name": "#%%\n"
    }
   }
  }
 ],
 "metadata": {
  "kernelspec": {
   "display_name": "Python 3",
   "language": "python",
   "name": "python3"
  },
  "language_info": {
   "codemirror_mode": {
    "name": "ipython",
    "version": 2
   },
   "file_extension": ".py",
   "mimetype": "text/x-python",
   "name": "python",
   "nbconvert_exporter": "python",
   "pygments_lexer": "ipython2",
   "version": "2.7.6"
  }
 },
 "nbformat": 4,
 "nbformat_minor": 0
}