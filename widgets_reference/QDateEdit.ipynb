{
 "cells": [
  {
   "cell_type": "markdown",
   "source": [
    "# QDateEdit\n",
    "\n",
    "  * QDateEdit 위젯은 사용자에게 날짜를 선택, 편집하도록 할 때 사용합니다.\n",
    "\n",
    "  * 예제에서 QDateEdit 객체를 하나 만들고, 현재 날짜로 표시되도록 설정해보겠습니다."
   ],
   "metadata": {
    "collapsed": false,
    "pycharm": {
     "name": "#%% md\n"
    }
   }
  },
  {
   "cell_type": "code",
   "execution_count": 31,
   "outputs": [
    {
     "name": "stdout",
     "output_type": "stream",
     "text": [
      "date = PySide6.QtCore.QDate(2021, 6, 27)\n",
      "date = PySide6.QtCore.QDate(2022, 6, 27)\n",
      "date = PySide6.QtCore.QDate(2022, 7, 27)\n",
      "date = PySide6.QtCore.QDate(2022, 8, 27)\n",
      "date = PySide6.QtCore.QDate(2022, 9, 27)\n",
      "date = PySide6.QtCore.QDate(2022, 10, 27)\n",
      "date = PySide6.QtCore.QDate(2022, 9, 27)\n",
      "정상적으로 종료되었습니다 :종료 코드 [0]\n"
     ]
    }
   ],
   "source": [
    "from PySide6.QtWidgets import (QApplication, QMainWindow, QWidget, QVBoxLayout, QHBoxLayout,\n",
    "                               QLabel, QDateEdit)\n",
    "from PySide6.QtCore import Qt, QDate\n",
    "from PySide6.QtGui import QFont\n",
    "import sys\n",
    "\n",
    "class MyApp(QWidget):\n",
    "\n",
    "    def __init__(self):\n",
    "        super().__init__()\n",
    "        self.init_ui()\n",
    "\n",
    "    def init_ui(self):\n",
    "        self.date = QDateEdit()\n",
    "        self.label = QLabel(\"QLabelWidget\")\n",
    "        self.label.setFont(QFont(\"휴먼엑스포\", 20, QFont.Bold))\n",
    "        self.label.setAlignment(Qt.AlignCenter)\n",
    "\n",
    "        self.date.setDate(QDate.currentDate())\n",
    "        self.date.setDateRange(QDate(2021,1,1), QDate(2025,12,31))\n",
    "        self.date.setFont(QFont(\"Times\", 20, QFont.Bold))\n",
    "\n",
    "        self.vlayout = QVBoxLayout()\n",
    "        self.vlayout.addStretch(1)\n",
    "        self.vlayout.addWidget(self.label)\n",
    "        self.vlayout.addWidget(self.date)\n",
    "        self.vlayout.addStretch(1)\n",
    "        self.setLayout(self.vlayout)\n",
    "\n",
    "        self.date.dateChanged[QDate].connect(self.display_changed_date)\n",
    "\n",
    "        self.setWindowTitle(\"QDateEdit\")\n",
    "        self.setGeometry(300, 300, 300, 300)\n",
    "        self.show()\n",
    "\n",
    "    def display_changed_date(self, date):\n",
    "        print(f\"{date = }\")\n",
    "        self.label.setText(date.toString())\n",
    "\n",
    "\n",
    "if __name__ == '__main__':\n",
    "    if not QApplication.instance():\n",
    "        app = QApplication(sys.argv)\n",
    "    else:\n",
    "        app = QApplication.instance()\n",
    "\n",
    "    ex = MyApp()\n",
    "\n",
    "    try:\n",
    "        sys.exit(app.exec())\n",
    "    except SystemExit as e:\n",
    "        print(f\"정상적으로 종료되었습니다 :종료 코드 [{e}]\")\n"
   ],
   "metadata": {
    "collapsed": false,
    "pycharm": {
     "name": "#%%\n"
    }
   }
  },
  {
   "cell_type": "code",
   "execution_count": 15,
   "outputs": [
    {
     "name": "stdout",
     "output_type": "stream",
     "text": [
      "정상적으로 종료되었습니다 :종료 코드 [0]\n"
     ]
    }
   ],
   "source": [
    "## Ex 5-16. QDateEdit.\n",
    "\n",
    "import sys\n",
    "from PySide6.QtWidgets import QApplication, QWidget, QLabel, QDateEdit, QVBoxLayout\n",
    "from PySide6.QtCore import QDate\n",
    "\n",
    "\n",
    "class MyApp(QWidget):\n",
    "\n",
    "    def __init__(self):\n",
    "        super().__init__()\n",
    "        self.initUI()\n",
    "\n",
    "    def initUI(self):\n",
    "        lbl = QLabel('QDateEdit')\n",
    "\n",
    "        dateedit = QDateEdit(self)\n",
    "        dateedit.setDate(QDate.currentDate())\n",
    "        dateedit.setMinimumDate(QDate(1900, 1, 1))\n",
    "        dateedit.setMaximumDate(QDate(2100, 12, 31))\n",
    "        # dateedit.setDateRange(QDate(1900, 1, 1), QDate(2100, 12, 31))\n",
    "\n",
    "        vbox = QVBoxLayout()\n",
    "        vbox.addWidget(lbl)\n",
    "        vbox.addWidget(dateedit)\n",
    "        vbox.addStretch()\n",
    "\n",
    "        self.setLayout(vbox)\n",
    "\n",
    "        self.setWindowTitle('QDateEdit')\n",
    "        self.setGeometry(300, 300, 300, 200)\n",
    "        self.show()\n",
    "\n",
    "\n",
    "if __name__ == '__main__':\n",
    "    if not QApplication.instance():\n",
    "        app = QApplication(sys.argv)\n",
    "    else:\n",
    "        app = QApplication.instance()\n",
    "\n",
    "    ex = MyApp()\n",
    "\n",
    "    try:\n",
    "        sys.exit(app.exec())\n",
    "    except SystemExit as e:\n",
    "        print(f\"정상적으로 종료되었습니다 :종료 코드 [{e}]\")"
   ],
   "metadata": {
    "collapsed": false,
    "pycharm": {
     "name": "#%%\n"
    }
   }
  },
  {
   "cell_type": "code",
   "execution_count": null,
   "outputs": [],
   "source": [],
   "metadata": {
    "collapsed": false,
    "pycharm": {
     "name": "#%%\n"
    }
   }
  }
 ],
 "metadata": {
  "kernelspec": {
   "display_name": "Python 3",
   "language": "python",
   "name": "python3"
  },
  "language_info": {
   "codemirror_mode": {
    "name": "ipython",
    "version": 2
   },
   "file_extension": ".py",
   "mimetype": "text/x-python",
   "name": "python",
   "nbconvert_exporter": "python",
   "pygments_lexer": "ipython2",
   "version": "2.7.6"
  }
 },
 "nbformat": 4,
 "nbformat_minor": 0
}