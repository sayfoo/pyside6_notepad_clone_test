{
 "cells": [
  {
   "cell_type": "markdown",
   "source": [
    "# QProgessBar\n",
    "\n",
    "    * 진행 표시줄은 시간이 걸리는 작업에 사용되는 위젯입니다. (QProgressBar 공식 문서 참고)\n",
    "    * QProgressBar 위젯은 수평, 수직의 진행 표시줄을 제공합니다.\n",
    "    * setMinimum()과 setMaximum() 메서드로 진행 표시줄의 최소값과 최대값을 설정할 수 있으며,\n",
    "    * 또는 setRange() 메서드로 한 번에 범위를 설정할 수도 있습니다.\n",
    "    * 기본값은 0과 99입니다.\n",
    "    * setValue() 메서드로 진행 표시줄의 진행 상태를 특정 값으로 설정할 수 있고, reset() 메서드는 초기 상태로 되돌립니다.\n",
    "    * 진행 표시줄의 최소값과 최대값을 모두 0으로 설정하면, 진행 표시줄은 위의 그림과 같이 항상 진행 중인 상태로 표시됩니다이 기능은 다운로드하고 있는 파일의 용량을 알 수 없을 때 유용하게 사용할 수 있습니다."
   ],
   "metadata": {
    "collapsed": false,
    "pycharm": {
     "name": "#%% md\n"
    }
   }
  },
  {
   "cell_type": "code",
   "execution_count": 11,
   "outputs": [
    {
     "name": "stdout",
     "output_type": "stream",
     "text": [
      "self.step =0\n",
      "self.step =1\n",
      "self.step =2\n",
      "self.step =3\n",
      "self.step =4\n",
      "self.step =5\n",
      "self.step =6\n",
      "self.step =7\n",
      "self.step =8\n",
      "self.step =9\n",
      "self.step =10\n",
      "self.step =11\n",
      "정상적으로 종료되었습니다 :종료 코드 [0]\n"
     ]
    }
   ],
   "source": [
    "## Ex 5-7. QProgressBar.\n",
    "# 수평의 진행 표시줄과 푸시 버튼을 하나씩 만들었습니다.\n",
    "# 푸시 버튼을 통해 진행 표시줄을 시작하고 멈출 수 있습니다.\n",
    "# 참고로 timerEvent은 기본적으로 제공되는 기능인데 새로 작성해서 오버라이딩(덮어쓰기)한 것입니다.\n",
    "# self.timer.start시에 자동으로 호출된다.\n",
    "\n",
    "import sys\n",
    "from PySide6.QtWidgets import QApplication, QWidget, QPushButton, QProgressBar, QVBoxLayout\n",
    "from PySide6.QtCore import QBasicTimer\n",
    "\n",
    "\n",
    "class MyApp(QWidget):\n",
    "\n",
    "    def __init__(self):\n",
    "        super().__init__()\n",
    "        self.initUI()\n",
    "\n",
    "    def initUI(self):\n",
    "        self.pbar = QProgressBar()\n",
    "        self.btn = QPushButton('Start')\n",
    "        self.vlayout = QVBoxLayout()\n",
    "        self.vlayout.addWidget(self.pbar)\n",
    "        self.vlayout.addWidget(self.btn)\n",
    "        self.setLayout(self.vlayout)\n",
    "\n",
    "        self.btn.clicked.connect(self.doAction)\n",
    "\n",
    "        self.timer = QBasicTimer()\n",
    "        self.step = 0\n",
    "\n",
    "        self.setWindowTitle('QProgressBar')\n",
    "        self.setGeometry(300, 300, 600, 300)\n",
    "        self.show()\n",
    "\n",
    "    def timerEvent(self, e):          #  self.timer.start 시 자동 호츨됨\n",
    "        print(f\"{self.step =}\")\n",
    "        if self.step >= 100:\n",
    "            self.timer.stop()\n",
    "            self.btn.setText('Finished')\n",
    "            return\n",
    "\n",
    "        self.step = self.step + 1\n",
    "        self.pbar.setValue(self.step)\n",
    "\n",
    "    def doAction(self): # doAction() 메서드 안에서, 타이머를 시작하고 멈추도록 해줍니다.\n",
    "        if self.timer.isActive():\n",
    "            self.timer.stop()           # 파라가 1개로 오케\n",
    "            self.btn.setText('Start')\n",
    "        else:\n",
    "            self.timer.start(100, self)  # 반드시 파라가 2개 있어야\n",
    "                                         # (타이머 이벤트를 실행하기 위해, start() 메서드를 호출합니다.)\n",
    "           # 이 메서드는 두 개의 매개변수를 갖는데, 첫 번째는 종료시간이고 두 번째는 이벤트가 수행될 객체입니다.\n",
    "           # 각각의 QObject와 그 자손들은 timerEvent() 이벤트 핸들러를 갖습니다. 타이머 이벤트에 반응하기 위해,\n",
    "            # 이벤트 핸들러를 재구성해줍니다.(overload)\n",
    "            self.btn.setText('Stop')\n",
    "\n",
    "\n",
    "if __name__ == '__main__':\n",
    "    if not QApplication.instance():\n",
    "        app = QApplication(sys.argv)\n",
    "    else:\n",
    "        app = QApplication.instance()\n",
    "\n",
    "    ex = MyApp()\n",
    "\n",
    "    try:\n",
    "        sys.exit(app.exec())\n",
    "    except SystemExit as e:\n",
    "        print(f\"정상적으로 종료되었습니다 :종료 코드 [{e}]\")"
   ],
   "metadata": {
    "collapsed": false,
    "pycharm": {
     "name": "#%%\n"
    }
   }
  },
  {
   "cell_type": "code",
   "execution_count": null,
   "outputs": [],
   "source": [],
   "metadata": {
    "collapsed": false,
    "pycharm": {
     "name": "#%%\n"
    }
   }
  }
 ],
 "metadata": {
  "kernelspec": {
   "display_name": "Python 3",
   "language": "python",
   "name": "python3"
  },
  "language_info": {
   "codemirror_mode": {
    "name": "ipython",
    "version": 2
   },
   "file_extension": ".py",
   "mimetype": "text/x-python",
   "name": "python",
   "nbconvert_exporter": "python",
   "pygments_lexer": "ipython2",
   "version": "2.7.6"
  }
 },
 "nbformat": 4,
 "nbformat_minor": 0
}