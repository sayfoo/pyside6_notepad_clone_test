{
 "cells": [
  {
   "cell_type": "markdown",
   "source": [
    "# QTabWidget\n",
    "\n",
    "    GUI 프로그램을 사용하다보면 위의 그림과 같이 탭(Tab)이 있는 창을 볼 수 있습니다.\n",
    "\n",
    "    이러한 탭은 프로그램 안의 구성요소들이 많은 면적을 차지하지 않으면서, 그것들을 카테고리에 따라 분류할 수 있기 때문에 유용하게 사용될 수 있습니다.\n",
    "\n",
    "    간단한 예제를 통해 두 개의 탭을 갖는 위젯을 하나 만들어보겠습니다."
   ],
   "metadata": {
    "collapsed": false,
    "pycharm": {
     "name": "#%% md\n"
    }
   }
  },
  {
   "cell_type": "code",
   "execution_count": 12,
   "outputs": [
    {
     "name": "stdout",
     "output_type": "stream",
     "text": [
      "정상적으로 종료되었습니다 :종료 코드 [0]\n"
     ]
    }
   ],
   "source": [
    "## Ex 5-11. QTabWidget.\n",
    "\n",
    "import sys\n",
    "from PySide6.QtWidgets import (QApplication, QWidget, QTabWidget, QVBoxLayout, QHBoxLayout,\n",
    "                               QLabel)\n",
    "from PySide6.QtGui import QIcon, Qt, QPixmap, QImage\n",
    "\n",
    "\n",
    "class MyApp(QWidget):\n",
    "\n",
    "    def __init__(self):\n",
    "        super().__init__()\n",
    "        self.initUI()\n",
    "\n",
    "    def initUI(self):\n",
    "        self.tab1 = QWidget()\n",
    "        self.tab2 = QWidget()\n",
    "\n",
    "        self.tab1_label = QLabel(\"여기는 첫번째 탭입니다.\")\n",
    "        self.tab2_label = QLabel(\"여기는 두번째 탭입니다.\")\n",
    "\n",
    "        self.pixmap = QPixmap(QImage('../img/logo_qfactory.png'))\n",
    "        self.tab1_label.setPixmap(self.pixmap)\n",
    "        self.tab1_label.setScaledContents(False)\n",
    "\n",
    "        self.pixmap = QPixmap(QImage('../img/lion_cat.png'))\n",
    "        self.tab2_label.setPixmap(self.pixmap)\n",
    "        self.tab2_label.setScaledContents(False)\n",
    "        self.tab2_label.setAlignment(Qt.AlignCenter)\n",
    "\n",
    "        self.tab1_vlayout = QVBoxLayout()\n",
    "        self.tab2_vlayout = QVBoxLayout()\n",
    "\n",
    "        self.tab1_vlayout.addWidget(self.tab1_label)\n",
    "        self.tab2_vlayout.addWidget(self.tab2_label)\n",
    "\n",
    "        self.tab1.setLayout(self.tab1_vlayout)\n",
    "        self.tab2.setLayout(self.tab2_vlayout)\n",
    "\n",
    "        self.tabs = QTabWidget()\n",
    "        self.tabs.addTab(self.tab1, '첫번째 탭')\n",
    "        self.tabs.addTab(self.tab2, '두번째 탭')\n",
    "\n",
    "        self.vbox = QVBoxLayout()\n",
    "        self.vbox.addWidget(self.tabs)\n",
    "\n",
    "        self.setLayout(self.vbox)\n",
    "\n",
    "        self.setWindowTitle('QTabWidget')\n",
    "        self.setGeometry(300, 300, 600, 300)\n",
    "        self.show()\n",
    "\n",
    "if __name__ == '__main__':\n",
    "    if not QApplication.instance():\n",
    "        app = QApplication(sys.argv)\n",
    "    else:\n",
    "        app = QApplication.instance()\n",
    "\n",
    "    ex = MyApp()\n",
    "\n",
    "    try:\n",
    "        sys.exit(app.exec())\n",
    "    except SystemExit as e:\n",
    "        print(f\"정상적으로 종료되었습니다 :종료 코드 [{e}]\")"
   ],
   "metadata": {
    "collapsed": false,
    "pycharm": {
     "name": "#%%\n"
    }
   }
  },
  {
   "cell_type": "code",
   "execution_count": null,
   "outputs": [],
   "source": [],
   "metadata": {
    "collapsed": false,
    "pycharm": {
     "name": "#%%\n"
    }
   }
  }
 ],
 "metadata": {
  "kernelspec": {
   "display_name": "Python 3",
   "language": "python",
   "name": "python3"
  },
  "language_info": {
   "codemirror_mode": {
    "name": "ipython",
    "version": 2
   },
   "file_extension": ".py",
   "mimetype": "text/x-python",
   "name": "python",
   "nbconvert_exporter": "python",
   "pygments_lexer": "ipython2",
   "version": "2.7.6"
  }
 },
 "nbformat": 4,
 "nbformat_minor": 0
}