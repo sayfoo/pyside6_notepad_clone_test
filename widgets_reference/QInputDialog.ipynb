{
 "cells": [
  {
   "cell_type": "markdown",
   "source": [
    "# QInputDialog\n",
    "\n",
    "\n",
    "입력 다이얼로그 (QInputDialog)는 사용자가 간단한 값을 입력할 때 사용하는 다이얼로그입니다.\n",
    "\n",
    "입력값은 숫자, 문자열, 리스트에서 선택한 항목 등이 될 수 있습니다. (QInputDialog 공식 문서 참고)\n",
    "\n",
    "입력값의 형태에 따라 아래와 같이 다섯 개의 유용한 함수가 제공됩니다.\n",
    "\n",
    "\n",
    "getText()\n",
    "getMultiLineText()\n",
    "getInt()\n",
    "getDouble()\n",
    "getItem()\n",
    "\n",
    "\n",
    "예제에서는 getText() 메서드를 사용합니다."
   ],
   "metadata": {
    "collapsed": false,
    "pycharm": {
     "name": "#%% md\n"
    }
   }
  },
  {
   "cell_type": "code",
   "execution_count": 8,
   "outputs": [
    {
     "name": "stdout",
     "output_type": "stream",
     "text": [
      "정상적으로 종료되었습니다 :종료 코드 [0]\n",
      "정상적으로 종료되었습니다 :종료 코드 [0]\n"
     ]
    }
   ],
   "source": [
    "## Ex 6-1. QInputDialog.\n",
    "\n",
    "import sys\n",
    "from PySide6.QtWidgets import (QApplication, QWidget, QPushButton, QLineEdit, QInputDialog)\n",
    "\n",
    "\n",
    "class MyApp(QWidget):\n",
    "\n",
    "    def __init__(self):\n",
    "        super().__init__()\n",
    "        self.initUI()\n",
    "\n",
    "    def initUI(self):\n",
    "        self.btn = QPushButton('Dialog', self)\n",
    "        self.btn.move(30, 30)\n",
    "        self.btn.clicked.connect(self.showDialog)\n",
    "\n",
    "        self.le = QLineEdit(self)\n",
    "        self.le.move(120, 32)\n",
    "\n",
    "        self.setWindowTitle('Input dialog')\n",
    "        self.setGeometry(300, 300, 300, 200)\n",
    "        self.show()\n",
    "\n",
    "    def showDialog(self):\n",
    "        text, ok = QInputDialog.getText(self,'Input Dialog','Enter your name:')\n",
    "\n",
    "        if ok:\n",
    "            self.le.setText(str(text))\n",
    "\n",
    "\n",
    "if __name__ == \"__main__\":\n",
    "    if not QApplication.instance():\n",
    "        app = QApplication(sys.argv)\n",
    "    else:\n",
    "        app = QApplication.instance()\n",
    "\n",
    "    win = MyApp()\n",
    "\n",
    "    try:\n",
    "        sys.exit(app.exec())\n",
    "    except SystemExit as e:\n",
    "        print(f\"정상적으로 종료되었습니다 :종료 코드 [{e}]\")"
   ],
   "metadata": {
    "collapsed": false,
    "pycharm": {
     "name": "#%%\n"
    }
   }
  },
  {
   "cell_type": "code",
   "execution_count": null,
   "outputs": [],
   "source": [],
   "metadata": {
    "collapsed": false,
    "pycharm": {
     "name": "#%%\n"
    }
   }
  }
 ],
 "metadata": {
  "kernelspec": {
   "display_name": "Python 3",
   "language": "python",
   "name": "python3"
  },
  "language_info": {
   "codemirror_mode": {
    "name": "ipython",
    "version": 2
   },
   "file_extension": ".py",
   "mimetype": "text/x-python",
   "name": "python",
   "nbconvert_exporter": "python",
   "pygments_lexer": "ipython2",
   "version": "2.7.6"
  }
 },
 "nbformat": 4,
 "nbformat_minor": 0
}