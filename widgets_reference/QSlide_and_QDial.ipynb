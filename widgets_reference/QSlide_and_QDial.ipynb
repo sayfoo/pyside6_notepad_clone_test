{
 "cells": [
  {
   "cell_type": "markdown",
   "source": [
    "# QSlider & QDial\n",
    "\n",
    "    QSlider는 수평 또는 수직 방향의 슬라이더를 제공합니다.\n",
    "\n",
    "    슬라이더는 제한된 범위 안에서 값을 조절하는 위젯입니다. (QSlider 공식 문서 참고)\n",
    "\n",
    "    슬라이더의 틱(tick)의 간격을 조절하기 위해서는 setTickInterval() 메서드, 틱(tick)의 위치를 조절하기 위해서는 setTickPosition() 메서드를 사용합니다.\n",
    "\n",
    "    setTickInterval() 메서드의 입력값은 픽셀이 아니라 값을 의미합니다.\n",
    "\n",
    "    setTickPosition() 메서드의 입력값과 기능은 아래의 표와 같습니다. (예시: setTickPosition(QSlider.NoTicks) 또는 setTickPosition(0))\n",
    "\n",
    "-----\n",
    "    상수\t값\t설명\n",
    "    QSlider.NoTicks\t0\t틱을 표시하지 않습니다.\n",
    "    QSlider.TicksAbove\t1\t틱을 (수평) 슬라이더 위쪽에 표시합니다.\n",
    "    QSlider.TicksBelow\t2\t틱을 (수평) 슬라이더 아래쪽에 표시합니다.\n",
    "    QSlider.TicksBothSides\t3\t틱을 (수평) 슬라이더 양쪽에 표시합니다.\n",
    "    QSlider.TicksLeft\tTicksAbove\t틱을 (수직) 슬라이더 왼쪽에 표시합니다.\n",
    "    QSlider.TicksRight\tTicksBelow\t틱을 (수직) 슬라이더 오른쪽에 표시합니다.\n",
    "-----"
   ],
   "metadata": {
    "collapsed": false,
    "pycharm": {
     "name": "#%% md\n"
    }
   }
  },
  {
   "cell_type": "markdown",
   "source": [
    "QDial은 슬라이더를 둥근 형태로 표현한 다이얼 위젯이며, 기본적으로 같은 시그널과 슬롯, 메서드들을 공유합니다. (QDial 공식 문서 참고)\n",
    "\n",
    "위의 그림처럼 다이얼 위젯에 노치(notch)를 표시하기 위해서는 setNotchesVisible() 메서드를 사용합니다. True로 설정하면 둥근 다이얼을 따라서 노치들이 표시됩니다. 기본적으로 노치는 표시되지 않도록 설정되어 있습니다.\n",
    "\n",
    "QSlider과 QDial 위젯에서 가장 자주 쓰이는 시그널은 아래와 같습니다. 예제에서는 valueChanged 시그널을 사용해보겠습니다.\n",
    "\n",
    "-----\n",
    "\n",
    "    시그널\t설명\n",
    "    valueChanged()\t슬라이더의 값이 변할 때 발생합니다.\n",
    "    sliderPressed()\t사용자가 슬라이더를 움직이기 시작할 때 발생합니다.\n",
    "    sliderMoved()\t사용자가 슬라이더를 움직이면 발생합니다.\n",
    "    sliderReleased()\t사용자가 슬라이더를 놓을 때 발생합니다.\n",
    "\n",
    "-----"
   ],
   "metadata": {
    "collapsed": false,
    "pycharm": {
     "name": "#%% md\n"
    }
   }
  },
  {
   "cell_type": "code",
   "execution_count": 9,
   "outputs": [
    {
     "name": "stdout",
     "output_type": "stream",
     "text": [
      "button clilked state = False\n",
      "Slider number = 10\n",
      "Dial number = 20\n",
      "button clilked state = False\n",
      "Slider number = 0\n",
      "Dial number = 0\n",
      "정상적으로 종료되었습니다 :종료 코드 [0]\n"
     ]
    }
   ],
   "source": [
    "## Ex 5-8. QSlider & QDial.\n",
    "\n",
    "import sys\n",
    "from PySide6.QtWidgets import QApplication, QWidget, QSlider, QDial, QLabel ,QPushButton, \\\n",
    "                              QVBoxLayout, QHBoxLayout\n",
    "from PySide6.QtCore import Qt\n",
    "\n",
    "\n",
    "class MyApp(QWidget):\n",
    "\n",
    "    def __init__(self):\n",
    "        super().__init__()\n",
    "        self.initUI()\n",
    "\n",
    "    def initUI(self):\n",
    "        self.slider = QSlider(Qt.Horizontal)\n",
    "        # self.slider.move(30, 30)\n",
    "        self.slider.setRange(0, 50)\n",
    "        self.slider.setSingleStep(2)\n",
    "\n",
    "        self.slider_label = QLabel(\"Display\")\n",
    "        self.dial_label = QLabel(\"Display\")\n",
    "\n",
    "        self.dial = QDial()\n",
    "        # self.dial.move(30, 50)\n",
    "        self.dial.setRange(0, 50)\n",
    "\n",
    "        self.btn = QPushButton('Default')\n",
    "        # self.btn.move(35, 160)\n",
    "\n",
    "        self.vlayout = QVBoxLayout()\n",
    "\n",
    "        self.h1layout = QHBoxLayout()\n",
    "        self.h1layout.addWidget(self.slider)\n",
    "        self.h1layout.addWidget(self.slider_label)\n",
    "\n",
    "        self.h2layout = QHBoxLayout()\n",
    "        self.h2layout.addWidget(self.dial)\n",
    "        self.h2layout.addWidget(self.dial_label)\n",
    "\n",
    "        self.h3layout = QHBoxLayout()\n",
    "        self.h3layout.addStretch(1)\n",
    "        self.h3layout.addWidget(self.btn)\n",
    "        self.h3layout.addStretch(1)\n",
    "\n",
    "        self.vlayout.addLayout(self.h1layout)\n",
    "        self.vlayout.addLayout(self.h2layout)\n",
    "        self.vlayout.addLayout(self.h3layout)\n",
    "\n",
    "        self.setLayout(self.vlayout)\n",
    "\n",
    "        self.slider.valueChanged[int].connect(self.slider_display_value)\n",
    "        self.dial.valueChanged[int].connect(self.dial_display_value)\n",
    "        self.btn.clicked[bool].connect(self.button_clicked)\n",
    "\n",
    "        self.setWindowTitle('QSlider and QDial')\n",
    "        self.setGeometry(300, 300, 400, 200)\n",
    "        self.show()\n",
    "\n",
    "    def slider_display_value(self, number):\n",
    "        print(f\"Slider {number = }\")\n",
    "        self.slider_label.setAlignment(Qt.AlignCenter)\n",
    "        self.slider_label.setText(f\"Slider : {number}\")\n",
    "\n",
    "    def dial_display_value(self, number):\n",
    "        print(f\"Dial {number = }\")\n",
    "        self.dial_label.setAlignment(Qt.AlignCenter)\n",
    "        self.dial_label.setText(f\"Dial : {number}\")\n",
    "\n",
    "    def button_clicked(self, state):\n",
    "        print(f\"button clilked {state = }\")\n",
    "        self.slider.setValue(0)\n",
    "        self.dial.setValue(0)\n",
    "\n",
    "\n",
    "if __name__ == '__main__':\n",
    "    if not QApplication.instance():\n",
    "        app = QApplication(sys.argv)\n",
    "    else:\n",
    "        app = QApplication.instance()\n",
    "\n",
    "    ex = MyApp()\n",
    "\n",
    "    try:\n",
    "        sys.exit(app.exec())\n",
    "    except SystemExit as e:\n",
    "        print(f\"정상적으로 종료되었습니다 :종료 코드 [{e}]\")"
   ],
   "metadata": {
    "collapsed": false,
    "pycharm": {
     "name": "#%%\n"
    }
   }
  },
  {
   "cell_type": "code",
   "execution_count": null,
   "outputs": [],
   "source": [],
   "metadata": {
    "collapsed": false,
    "pycharm": {
     "name": "#%%\n"
    }
   }
  }
 ],
 "metadata": {
  "kernelspec": {
   "display_name": "Python 3",
   "language": "python",
   "name": "python3"
  },
  "language_info": {
   "codemirror_mode": {
    "name": "ipython",
    "version": 2
   },
   "file_extension": ".py",
   "mimetype": "text/x-python",
   "name": "python",
   "nbconvert_exporter": "python",
   "pygments_lexer": "ipython2",
   "version": "2.7.6"
  }
 },
 "nbformat": 4,
 "nbformat_minor": 0
}