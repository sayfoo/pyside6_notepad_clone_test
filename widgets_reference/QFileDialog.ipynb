{
 "cells": [
  {
   "cell_type": "markdown",
   "source": [
    "# QFileDialog\n",
    "-----\n",
    "\n",
    "    - QFileDialog는 사용자가 파일 또는 경로를 선택할 수 있도록 하는 다이얼로그입니다.\n",
    "    - 사용자는 선택한 파일을 열어서 수정하거나 저장할 수 있습니다. (QFileDialog 공식 문서 참고)\n",
    "\n",
    "-----\n",
    "\n",
    "메뉴바, 텍스트 편집, 상태바 위젯을 배치했습니다. 메뉴에는 파일을 선택하기 위한 'Open' 메뉴가 있습니다.\n",
    "\n",
    "선택한 파일의 내용을 텍스트 편집 위젯으로 불러옵니다."
   ],
   "metadata": {
    "collapsed": false,
    "pycharm": {
     "name": "#%% md\n"
    }
   }
  },
  {
   "cell_type": "code",
   "execution_count": 10,
   "outputs": [
    {
     "name": "stdout",
     "output_type": "stream",
     "text": [
      "정상적으로 종료했을까 0\n"
     ]
    }
   ],
   "source": [
    "## Ex 6-4. QFileDialog.\n",
    "\n",
    "import sys\n",
    "from PySide6.QtWidgets import QApplication, QMainWindow, QTextEdit, QFileDialog\n",
    "from PySide6.QtGui import QAction, QIcon, QFont\n",
    "\n",
    "\n",
    "class MyApp(QMainWindow):\n",
    "\n",
    "    def __init__(self):\n",
    "        super().__init__()\n",
    "        self.initUI()\n",
    "\n",
    "    def initUI(self):\n",
    "        self.textEdit = QTextEdit()\n",
    "        self.setCentralWidget(self.textEdit)\n",
    "        self.statusBar()\n",
    "\n",
    "        openFile = QAction(QIcon('../img/open.png'), 'Open', self)\n",
    "        openFile.setShortcut('Ctrl+O')\n",
    "        openFile.setStatusTip('Open New File')\n",
    "        openFile.triggered.connect(self.showDialog)\n",
    "\n",
    "        menubar = self.menuBar()\n",
    "        menubar.setFont(QFont(\"Times\", 15, QFont.Black))\n",
    "        menubar.setNativeMenuBar(False)\n",
    "        fileMenu = menubar.addMenu('&File')\n",
    "        fileMenu.setFont(QFont(\"Times\", 15, QFont.Bold))\n",
    "        fileMenu.addAction(openFile)\n",
    "\n",
    "        self.setWindowTitle('File Dialog')\n",
    "        self.setGeometry(300, 300, 800, 500)\n",
    "        self.show()\n",
    "\n",
    "    def showDialog(self):\n",
    "        fname = QFileDialog.getOpenFileName(self, 'Open file', './')\n",
    "\n",
    "        if fname[0]:\n",
    "            f = open(fname[0], 'r', encoding='utf-8')\n",
    "\n",
    "            with f:\n",
    "                data = f.read()\n",
    "                self.textEdit.setFont(QFont(\"Times\", 20, QFont.Bold))\n",
    "                self.textEdit.setText(data)\n",
    "\n",
    "\n",
    "if __name__ == '__main__':\n",
    "    if not QApplication.instance():\n",
    "        app = QApplication(sys.argv)\n",
    "    else:\n",
    "        app = QApplication.instance()\n",
    "\n",
    "    ex = MyApp()\n",
    "    try:\n",
    "        sys.exit(app.exec())\n",
    "    except SystemExit as e:\n",
    "        print(f\"정상적으로 종료했을까 {e}\")"
   ],
   "metadata": {
    "collapsed": false,
    "pycharm": {
     "name": "#%%\n"
    }
   }
  },
  {
   "cell_type": "code",
   "execution_count": null,
   "outputs": [],
   "source": [],
   "metadata": {
    "collapsed": false,
    "pycharm": {
     "name": "#%%\n"
    }
   }
  }
 ],
 "metadata": {
  "kernelspec": {
   "display_name": "Python 3",
   "language": "python",
   "name": "python3"
  },
  "language_info": {
   "codemirror_mode": {
    "name": "ipython",
    "version": 2
   },
   "file_extension": ".py",
   "mimetype": "text/x-python",
   "name": "python",
   "nbconvert_exporter": "python",
   "pygments_lexer": "ipython2",
   "version": "2.7.6"
  }
 },
 "nbformat": 4,
 "nbformat_minor": 0
}