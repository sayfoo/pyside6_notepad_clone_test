{
 "cells": [
  {
   "cell_type": "markdown",
   "source": [
    "# QCalendarWidget\n",
    "\n",
    "QCalendarWidget을 이용해서 사용자가 날짜를 선택할 수 있도록 달력을 표시할 수 있습니다.\n",
    "\n",
    "달력은 월 단위로 표시되고, 처음 실행될 때 현재의 연도, 월, 날짜로 선택되어 있습니다."
   ],
   "metadata": {
    "collapsed": false,
    "pycharm": {
     "name": "#%% md\n"
    }
   }
  },
  {
   "cell_type": "code",
   "execution_count": 12,
   "outputs": [
    {
     "name": "stdout",
     "output_type": "stream",
     "text": [
      "정상적으로 종료되었습니다 :종료 코드 [0]\n"
     ]
    }
   ],
   "source": [
    "## Ex 5-13. QCalenderWidget.\n",
    "\n",
    "import sys\n",
    "from PySide6.QtWidgets import QApplication, QWidget, QLabel, QVBoxLayout, QCalendarWidget\n",
    "from PySide6.QtCore import QDate, Qt\n",
    "\n",
    "\n",
    "class MyApp(QWidget):\n",
    "\n",
    "    def __init__(self):\n",
    "        super().__init__()\n",
    "        self.initUI()\n",
    "\n",
    "    def initUI(self):\n",
    "        self.calendar = QCalendarWidget()\n",
    "        self.calendar.setGridVisible(True)\n",
    "        self.calendar.clicked[QDate].connect(self.showDate)\n",
    "\n",
    "        self.label = QLabel()\n",
    "        self.date = self.calendar.selectedDate()\n",
    "        self.label.setText(self.date.toString())\n",
    "        self.label.setAlignment(Qt.AlignCenter)\n",
    "\n",
    "        vbox = QVBoxLayout()\n",
    "        vbox.addWidget(self.calendar)\n",
    "        vbox.addWidget(self.label)\n",
    "\n",
    "        self.setLayout(vbox)\n",
    "\n",
    "        self.setWindowTitle('QCalendarWidget')\n",
    "        self.setGeometry(300, 300, 600, 600)\n",
    "        self.show()\n",
    "\n",
    "    def showDate(self, date):\n",
    "        print(f\"{date = }\")\n",
    "        print(f\"{date.toString() = }\")\n",
    "\n",
    "        self.label.setText(date.toString())\n",
    "        self.label.setAlignment(Qt.AlignCenter)\n",
    "\n",
    "\n",
    "if __name__ == '__main__':\n",
    "    if not QApplication.instance():\n",
    "        app = QApplication(sys.argv)\n",
    "    else:\n",
    "        app = QApplication.instance()\n",
    "\n",
    "    ex = MyApp()\n",
    "\n",
    "    try:\n",
    "        sys.exit(app.exec())\n",
    "    except SystemExit as e:\n",
    "        print(f\"정상적으로 종료되었습니다 :종료 코드 [{e}]\")"
   ],
   "metadata": {
    "collapsed": false,
    "pycharm": {
     "name": "#%%\n"
    }
   }
  },
  {
   "cell_type": "code",
   "execution_count": 2,
   "outputs": [],
   "source": [],
   "metadata": {
    "collapsed": false,
    "pycharm": {
     "name": "#%%\n"
    }
   }
  }
 ],
 "metadata": {
  "kernelspec": {
   "display_name": "Python 3",
   "language": "python",
   "name": "python3"
  },
  "language_info": {
   "codemirror_mode": {
    "name": "ipython",
    "version": 2
   },
   "file_extension": ".py",
   "mimetype": "text/x-python",
   "name": "python",
   "nbconvert_exporter": "python",
   "pygments_lexer": "ipython2",
   "version": "2.7.6"
  }
 },
 "nbformat": 4,
 "nbformat_minor": 0
}