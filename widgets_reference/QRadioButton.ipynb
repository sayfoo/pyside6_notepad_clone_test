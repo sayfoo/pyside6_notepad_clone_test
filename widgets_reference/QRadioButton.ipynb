{
 "cells": [
  {
   "cell_type": "markdown",
   "source": [
    "# 04) QRadioButton\n",
    "\n",
    "    QRadioButton 위젯은 사용자가 선택할 수 있는 버튼을 만들 때 사용합니다. 이 버튼에도 체크 박스와 마찬가지로 텍스트 라벨이 하나 포함됩니다. (QRadioButton 공식 문서 참고)\n",
    "\n",
    "    라디오 버튼은 일반적으로 사용자에게 여러 개 중 하나의 옵션을 선택하도록 할 때 사용됩니다.\n",
    "    그래서 한 위젯 안에 여러 라디오 버튼은 기본적으로 autoExclusive로 설정되어 있습니다.\n",
    "    하나의 버튼을 선택하면 나머지 버튼들은 선택 해제가 됩니다.\n",
    "\n",
    "    한 번에 여러 버튼을 선택할 수 있도록 하려면 setAutoExclusive() 메서드에 False를 입력해주면 됩니다.\n",
    "    또한 한 위젯 안에 여러 개의 exclusive 버튼 그룹을 배치하고 싶다면 QButtonGroup() 메서드를 사용할 수 있습니다. (QButtonGroup 공식 문서 참고)\n",
    "\n",
    "    체크 박스와 마찬가지로 버튼의 상태가 바뀔 때, toggled() 시그널이 발생합니다.\n",
    "    또한 특정 버튼의 상태를 가져오고 싶을 때, isChecked() 메서드를 사용할 수 있습니다.\n",
    "\n",
    "    자주 쓰이는 QRadioButton의 메서드는 아래와 같습니다."
   ],
   "metadata": {
    "collapsed": false,
    "pycharm": {
     "name": "#%% md\n"
    }
   }
  },
  {
   "cell_type": "markdown",
   "source": [
    "자주 쓰이는 메서드\n",
    "------\n",
    "---------\n",
    "    메서드\t설명\n",
    "    text()\t버튼의 텍스트를 반환합니다.\n",
    "    setText()\t라벨에 들어갈 텍스트를 설정합니다.\n",
    "    setChecked()\t버튼의 선택 여부를 설정합니다.\n",
    "    isChecked()\t버튼의 선택 여부를 반환합니다.\n",
    "    toggle()\t버튼의 상태를 변경합니다.\n",
    "\n",
    "---------\n",
    "\n",
    "자주 쓰이는 시그날\n",
    "------\n",
    "---------\n",
    "    메서드\t설명\n",
    "    pressed()\t버튼을 누를 때 신호를 발생합니다.\n",
    "    released()\t버튼에서 뗄 때 신호를 발생합니다.\n",
    "    clicked()\t버튼을 클릭할 때 신호를 발생합니다.\n",
    "    toggled()\t버튼의 상태가 바뀔 때 신호를 발생합니다.\n",
    "\n",
    "------"
   ],
   "metadata": {
    "collapsed": false,
    "pycharm": {
     "name": "#%% md\n"
    }
   }
  },
  {
   "cell_type": "code",
   "execution_count": 1,
   "outputs": [
    {
     "name": "stdout",
     "output_type": "stream",
     "text": [
      "radio_btn2_clicked state = True\n",
      "radio_btn1_clicked state = True\n",
      "radio_btn2_clicked state = True\n",
      "radio_btn1_clicked state = True\n",
      "radio_btn2_clicked state = True\n",
      "radio_btn1_clicked state = True\n",
      "정상적으로 종료되었습니다 :종료 코드 [0]\n"
     ]
    }
   ],
   "source": [
    "## Ex 5-4. QRadioButton.\n",
    "## 두 개의 라디오버튼을 만들었습니다.\n",
    "\n",
    "import sys\n",
    "from PySide6.QtWidgets import QApplication, QWidget, QRadioButton, QHBoxLayout, QVBoxLayout\n",
    "from PySide6.QtCore import Qt\n",
    "\n",
    "\n",
    "class MyApp(QWidget):\n",
    "\n",
    "    def __init__(self):\n",
    "        super().__init__()\n",
    "        self.initUI()\n",
    "\n",
    "    def initUI(self):\n",
    "        self.rbtn1 = QRadioButton('First Button')\n",
    "        # self.rbtn1.move(50, 50)\n",
    "        self.rbtn1.setChecked(True)\n",
    "\n",
    "        self.rbtn2 = QRadioButton()\n",
    "        # self.rbtn2.move(50, 70)\n",
    "        self.rbtn2.setText('Second Button')\n",
    "\n",
    "        self.hlayout = QHBoxLayout()\n",
    "        self.hlayout.addWidget(self.rbtn1)\n",
    "        self.hlayout.addWidget(self.rbtn2)\n",
    "\n",
    "        self.vlayout = QVBoxLayout()\n",
    "        self.vlayout.addLayout(self.hlayout)\n",
    "\n",
    "        self.setLayout(self.vlayout)\n",
    "\n",
    "        self.rbtn1.clicked.connect(self.radio_btn1_clicked)\n",
    "        self.rbtn2.clicked.connect(self.radio_btn2_clicked)\n",
    "\n",
    "        self.setGeometry(300, 300, 300, 200)\n",
    "        self.setWindowTitle('QRadioButton')\n",
    "        self.show()\n",
    "\n",
    "    def radio_btn1_clicked(self, state):              # state is always True\n",
    "        print(f\"radio_btn1_clicked {state = }\")\n",
    "        if state:\n",
    "            self.setWindowTitle('QRadioButton 1 clicked')\n",
    "        else:\n",
    "            self.setWindowTitle(' ')\n",
    "\n",
    "    def radio_btn2_clicked(self, state):              # state is always True\n",
    "        print(f\"radio_btn2_clicked {state = }\")\n",
    "        if state:\n",
    "            self.setWindowTitle('QRadioButton 2 clicked')\n",
    "        else:\n",
    "            self.setWindowTitle(' ')\n",
    "\n",
    "\n",
    "\n",
    "if __name__ == '__main__':\n",
    "    if not QApplication.instance():\n",
    "        app = QApplication(sys.argv)\n",
    "    else:\n",
    "        app = QApplication.instance()\n",
    "\n",
    "    ex = MyApp()\n",
    "\n",
    "    try:\n",
    "        sys.exit(app.exec())\n",
    "    except SystemExit as e:\n",
    "        print(f\"정상적으로 종료되었습니다 :종료 코드 [{e}]\")"
   ],
   "metadata": {
    "collapsed": false,
    "pycharm": {
     "name": "#%%\n"
    }
   }
  },
  {
   "cell_type": "code",
   "execution_count": null,
   "outputs": [],
   "source": [],
   "metadata": {
    "collapsed": false,
    "pycharm": {
     "name": "#%%\n"
    }
   }
  }
 ],
 "metadata": {
  "kernelspec": {
   "display_name": "Python 3",
   "language": "python",
   "name": "python3"
  },
  "language_info": {
   "codemirror_mode": {
    "name": "ipython",
    "version": 2
   },
   "file_extension": ".py",
   "mimetype": "text/x-python",
   "name": "python",
   "nbconvert_exporter": "python",
   "pygments_lexer": "ipython2",
   "version": "2.7.6"
  }
 },
 "nbformat": 4,
 "nbformat_minor": 0
}