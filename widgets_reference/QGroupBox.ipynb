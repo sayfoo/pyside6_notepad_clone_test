{
 "cells": [
  {
   "cell_type": "markdown",
   "source": [
    "# QGroupBox\n",
    "\n",
    "-----\n",
    "그룹 박스는 상단 타이틀과 단축키 (shortcut)를 제공하며, 그 안에 다양한 위젯들을 나타낼 수 있습니다. (QGroupBox 공식 문서 참고)\n",
    "QGroupBox 클래스는 제목과 제목의 정렬을 설정하도록 해줍니다.\n",
    "그룹 박스는 체크 가능하도록 설정할 수 있는데, 그룹 박스의 체크 여부에 따라 그 그룹 박스 안에 있는 위젯들이 사용 가능하거나 불가능해집니다.\n",
    "공간을 절약하기 위해 flat 속성을 활성화할 수 있는데, 보통 프레임의 왼쪽, 오른쪽, 아래쪽 가장자리가 없게 표됩니다.\n",
    "-----"
   ],
   "metadata": {
    "collapsed": false,
    "pycharm": {
     "name": "#%% md\n"
    }
   }
  },
  {
   "cell_type": "markdown",
   "source": [
    "![\"QGroupBox.png\"](./image/QGroupBox.png)"
   ],
   "metadata": {
    "collapsed": false,
    "pycharm": {
     "name": "#%% md\n"
    }
   }
  },
  {
   "cell_type": "code",
   "execution_count": 34,
   "metadata": {
    "pycharm": {
     "name": "#%%\n"
    }
   },
   "outputs": [
    {
     "name": "stdout",
     "output_type": "stream",
     "text": [
      "정상적으로 종료되었습니다 :종료 코드 [0]\n"
     ]
    }
   ],
   "source": [
    "## Ex 5-10. QGroupBox.\n",
    "\n",
    "import sys\n",
    "from PySide6.QtWidgets import (QApplication, QWidget, QGroupBox, QRadioButton, QLabel,\n",
    "                               QCheckBox, QPushButton, QMenu, QGridLayout, QVBoxLayout)\n",
    "from PySide6.QtCore import Qt\n",
    "\n",
    "class MyApp(QWidget):\n",
    "\n",
    "    def __init__(self):\n",
    "        super().__init__()\n",
    "        self.initUI()\n",
    "\n",
    "    def initUI(self):\n",
    "        grid = QGridLayout()\n",
    "        grid.addWidget(self.createFirstExclusiveGroup(), 0, 0)\n",
    "        grid.addWidget(self.createSecondExclusiveGroup(), 1, 0)\n",
    "        grid.addWidget(self.createNonExclusiveGroup(), 0, 1)\n",
    "        grid.addWidget(self.createPushButtonGroup(), 1, 1)\n",
    "\n",
    "        self.setLayout(grid)\n",
    "        self.tristatebox.stateChanged.connect(self.show_stateChanged)\n",
    "\n",
    "        self.setWindowTitle('Box Layout')\n",
    "        self.setGeometry(300, 300, 480, 320)\n",
    "        self.show()\n",
    "\n",
    "    def show_stateChanged(self, state):\n",
    "        self.tristate_disp.setAlignment(Qt.AlignCenter)\n",
    "        self.tristate_disp.setText(f\"Tri-state is {state}\")\n",
    "\n",
    "\n",
    "    def createFirstExclusiveGroup(self):\n",
    "        groupbox = QGroupBox('Exclusive Radio Buttons')\n",
    "\n",
    "        radio1 = QRadioButton('Radio1')\n",
    "        radio2 = QRadioButton('Radio2')\n",
    "        radio3 = QRadioButton('Radio3')\n",
    "        radio1.setChecked(True)\n",
    "\n",
    "        vbox = QVBoxLayout()\n",
    "        vbox.addWidget(radio1)\n",
    "        vbox.addWidget(radio2)\n",
    "        vbox.addWidget(radio3)\n",
    "        groupbox.setLayout(vbox)\n",
    "\n",
    "        return groupbox\n",
    "\n",
    "    def createSecondExclusiveGroup(self):\n",
    "        groupbox = QGroupBox('Exclusive Radio Buttons')\n",
    "        groupbox.setCheckable(True)\n",
    "        groupbox.setChecked(False)\n",
    "\n",
    "        radio1 = QRadioButton('Radio1')\n",
    "        radio2 = QRadioButton('Radio2')\n",
    "        radio3 = QRadioButton('Radio3')\n",
    "        radio1.setChecked(True)\n",
    "        checkbox = QCheckBox('Independent Checkbox')\n",
    "        checkbox.setChecked(True)\n",
    "\n",
    "        vbox = QVBoxLayout()\n",
    "        vbox.addWidget(radio1)\n",
    "        vbox.addWidget(radio2)\n",
    "        vbox.addWidget(radio3)\n",
    "        vbox.addWidget(checkbox)\n",
    "        vbox.addStretch(1)\n",
    "        groupbox.setLayout(vbox)\n",
    "\n",
    "        return groupbox\n",
    "\n",
    "    def createNonExclusiveGroup(self):\n",
    "        groupbox = QGroupBox('Non-Exclusive Checkboxes')\n",
    "        groupbox.setFlat(True)\n",
    "\n",
    "        checkbox1 = QCheckBox('Checkbox1')\n",
    "        checkbox2 = QCheckBox('Checkbox2')\n",
    "        checkbox2.setChecked(True)\n",
    "        self.tristate_disp = QLabel(\"tristate_display\")\n",
    "        self.tristatebox = QCheckBox('Tri-state Button')\n",
    "        self.tristatebox.setTristate(True)\n",
    "        self.tristatebox.setChecked(True)  # checkState() 상태 반납 2/1/0\n",
    "\n",
    "\n",
    "        vbox = QVBoxLayout()\n",
    "        vbox.addWidget(checkbox1)\n",
    "        vbox.addWidget(checkbox2)\n",
    "        vbox.addWidget(self.tristatebox)\n",
    "        vbox.addWidget(self.tristate_disp)\n",
    "        groupbox.setLayout(vbox)\n",
    "\n",
    "        return groupbox\n",
    "\n",
    "    def createPushButtonGroup(self):\n",
    "        groupbox = QGroupBox('Push Buttons')\n",
    "        groupbox.setCheckable(True)\n",
    "        groupbox.setChecked(True)\n",
    "\n",
    "        pushbutton = QPushButton('Normal Button')\n",
    "        togglebutton = QPushButton('Toggle Button')\n",
    "        togglebutton.setCheckable(True)\n",
    "        togglebutton.setChecked(True)\n",
    "        flatbutton = QPushButton('Flat Button')\n",
    "        flatbutton.setFlat(True)\n",
    "        popupbutton = QPushButton('Popup Button')\n",
    "        menu = QMenu(self)\n",
    "        menu.addAction('First Item')\n",
    "        menu.addAction('Second Item')\n",
    "        menu.addAction('Third Item')\n",
    "        menu.addAction('Fourth Item')\n",
    "        popupbutton.setMenu(menu)\n",
    "\n",
    "        vbox = QVBoxLayout()\n",
    "        vbox.addWidget(pushbutton)\n",
    "        vbox.addWidget(togglebutton)\n",
    "        vbox.addWidget(flatbutton)\n",
    "        vbox.addWidget(popupbutton)\n",
    "        vbox.addStretch(1)\n",
    "        groupbox.setLayout(vbox)\n",
    "\n",
    "        return groupbox\n",
    "\n",
    "\n",
    "\n",
    "if __name__ == '__main__':\n",
    "    if not QApplication.instance():\n",
    "        app = QApplication(sys.argv)\n",
    "    else:\n",
    "        app = QApplication.instance()\n",
    "\n",
    "    ex = MyApp()\n",
    "\n",
    "    try:\n",
    "        sys.exit(app.exec())\n",
    "    except SystemExit as e:\n",
    "        print(f\"정상적으로 종료되었습니다 :종료 코드 [{e}]\")"
   ]
  },
  {
   "cell_type": "code",
   "execution_count": 15,
   "metadata": {
    "pycharm": {
     "name": "#%%\n"
    }
   },
   "outputs": [],
   "source": []
  }
 ],
 "metadata": {
  "kernelspec": {
   "display_name": "Python 3 (ipykernel)",
   "language": "python",
   "name": "python3"
  },
  "language_info": {
   "codemirror_mode": {
    "name": "ipython",
    "version": 3
   },
   "file_extension": ".py",
   "mimetype": "text/x-python",
   "name": "python",
   "nbconvert_exporter": "python",
   "pygments_lexer": "ipython3",
   "version": "3.10.5"
  }
 },
 "nbformat": 4,
 "nbformat_minor": 1
}