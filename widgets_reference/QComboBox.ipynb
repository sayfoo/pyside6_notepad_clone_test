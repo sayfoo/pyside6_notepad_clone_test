{
 "cells": [
  {
   "cell_type": "markdown",
   "source": [
    "# 05) QComboBox\n",
    "------\n",
    "    QComboBox는 작은 공간을 차지하면서, 여러 옵션들을 제공하고 그 중 하나의 옵션을 선택할 수 있도록 해주는 위젯입니다. (QComboBox 공식 문서 참고)\n",
    "    * currentTextChanged\n",
    "    * currentIndexChanged\n",
    "    * activated[str] ==> activated는 currentIndexChanged 동일\n",
    "------"
   ],
   "metadata": {
    "collapsed": false,
    "pycharm": {
     "name": "#%% md\n"
    }
   }
  },
  {
   "cell_type": "code",
   "execution_count": 30,
   "outputs": [
    {
     "name": "stdout",
     "output_type": "stream",
     "text": [
      "onActivated 0 is selected.\n",
      "currentIndexChanged [Option 1] is selected.\n",
      "onActivated 1 is selected.\n",
      "정상적으로 종료되었습니다 :종료 코드 [0]\n"
     ]
    }
   ],
   "source": [
    "## 하나의 라벨과 콤보박스 위젯을 만들고, 콤보박스에서 선택한 항목이 라벨에 나타나도록 했습니다.\n",
    "## Ex 5-5. QComboBox.\n",
    "\n",
    "import sys\n",
    "from PySide6.QtWidgets import QApplication, QWidget, QLabel, QComboBox, QHBoxLayout, QVBoxLayout\n",
    "from PySide6.QtCore import Qt\n",
    "\n",
    "\n",
    "class MyApp(QWidget):\n",
    "\n",
    "    def __init__(self):\n",
    "        super().__init__()\n",
    "        self.initUI()\n",
    "\n",
    "    def initUI(self):\n",
    "        self.lbl = QLabel('Option 0')\n",
    "        # self.lbl.move(50, 150)\n",
    "\n",
    "        self.cb = QComboBox()\n",
    "        self.cb.addItem('Option 0')\n",
    "        self.cb.addItem('Option 1')\n",
    "        self.cb.addItem('Option 2')\n",
    "        self.cb.addItem('Option 3')\n",
    "        # self.cb.move(50, 50)\n",
    "\n",
    "        self.vlayout = QVBoxLayout()\n",
    "        self.vlayout.addWidget(self.lbl)\n",
    "        self.vlayout.addWidget(self.cb)\n",
    "\n",
    "        self.setLayout(self.vlayout)\n",
    "\n",
    "        # self.cb.activated[str].connect(self.onActivated)\n",
    "        self.cb.activated.connect(self.onActivated)\n",
    "        # self.cb.currentIndexChanged.connect(self.currentIndexChanged)\n",
    "        self.cb.currentTextChanged.connect(self.currentTextChanged)\n",
    "\n",
    "        self.setWindowTitle('QComboBox')\n",
    "        self.setGeometry(300, 300, 300, 200)\n",
    "        self.show()\n",
    "\n",
    "    def onActivated(self, number):                  # 이 시그날은 모든 option에서 동작한다.\n",
    "        print(f\"onActivated {number} is selected.\")\n",
    "        # self.lbl.setText(str(number))\n",
    "        # self.lbl.adjustSize()\n",
    "\n",
    "    # def currentIndexChanged(self, number):\n",
    "    #     print(f\"currentIndexChanged {number} is selected.\")\n",
    "    #     self.lbl.setText(str(number))\n",
    "    #     self.lbl.adjustSize()\n",
    "\n",
    "    def currentTextChanged(self, text):             # 이 시그날은 모든 option 0에서는 동작하지 안는다.\n",
    "        print(f\"currentIndexChanged [{text}] is selected.\")\n",
    "        self.lbl.setText(f\"currentIndexChanged [{text}] is selected.\")\n",
    "        self.lbl.setAlignment(Qt.AlignCenter)\n",
    "        # self.lbl.adjustSize()\n",
    "\n",
    "if __name__ == '__main__':\n",
    "    if not QApplication.instance():\n",
    "        app = QApplication(sys.argv)\n",
    "    else:\n",
    "        app = QApplication.instance()\n",
    "\n",
    "    ex = MyApp()\n",
    "\n",
    "    try:\n",
    "        sys.exit(app.exec())\n",
    "    except SystemExit as e:\n",
    "        print(f\"정상적으로 종료되었습니다 :종료 코드 [{e}]\")"
   ],
   "metadata": {
    "collapsed": false,
    "pycharm": {
     "name": "#%%\n"
    }
   }
  }
 ],
 "metadata": {
  "kernelspec": {
   "display_name": "Python 3",
   "language": "python",
   "name": "python3"
  },
  "language_info": {
   "codemirror_mode": {
    "name": "ipython",
    "version": 2
   },
   "file_extension": ".py",
   "mimetype": "text/x-python",
   "name": "python",
   "nbconvert_exporter": "python",
   "pygments_lexer": "ipython2",
   "version": "2.7.6"
  }
 },
 "nbformat": 4,
 "nbformat_minor": 0
}