{
 "cells": [
  {
   "cell_type": "markdown",
   "source": [
    " ### 3) QCheckBox\n",
    "    * QCheckBox 위젯은 on(체크됨)/off(체크안됨)의 두 상태를 갖는 버튼을 제공합니다. 이 위젯은 하나의 텍스트 라벨과 함께 체크 박스를 제공합니다. (QCheckBox 공식 문서 참고)\n",
    "\n",
    "    * 체크 박스가 선택되거나 해제될 때, stateChanged() 시그널을 발생합니다. 체크 박스의 상태가 변할 때마다 어떠한 동작을 발생시키고 싶을 때, 이 시그널을 특정 슬롯에 연결할 수 있습니다.\n",
    "\n",
    "    * 또한 체크 박스의 선택 여부를 확인하기 위해서, isChecked() 메서드를 사용할 수 있습니다. 선택 여부에 따라 boolean 값을 반환합니다.\n",
    "\n",
    "  ------\n",
    "    * 일반적인 체크 박스는 선택/해제 상태만을 갖지만, setTristate() 메서드를 사용하면 '변경 없음(no change)' 상태를 가질 수 있습니다. 이 체크 박스는 사용자에게 선택하거나 선택하지 않을 옵션을 줄 때 유용합니다.\n",
    "\n",
    "    * 세 가지 상태를 갖는 체크 박스의 상태를 얻기 위해서는 checkState() 메서드를 사용합니다. 선택/변경 없음/해제 여부에 따라 각각 2/1/0 값을 반환합니다.\n",
    "\n",
    "    * QButtonGroup 클래스를 사용하면 여러 개의 버튼을 묶어서 exclusive/non-exclusive 버튼 그룹을 만들 수 있습니다. exclusive 버튼 그룹은 여러 개 중 하나의 버튼만 선택할 수 있습니다. (QButtonGroup 공식 문서 참고)"
   ],
   "metadata": {
    "collapsed": false,
    "pycharm": {
     "name": "#%% md\n"
    }
   }
  },
  {
   "cell_type": "markdown",
   "source": [
    "자주 쓰이는 메서드\n",
    "------\n",
    "---------\n",
    "    메서드\t설명\n",
    "    text()\t체크 박스의 라벨 텍스트를 반환합니다.\n",
    "    setText()\t체크 박스의 라벨 텍스트를 설정합니다.\n",
    "    isChecked()\t체크 박스의 상태를 반환합니다. (True/False)\n",
    "    checkState()\t체크 박스의 상태를 반환합니다. (2/1/0)\n",
    "    toggle()\t체크 박스의 상태를 변경합니다.\n",
    "------------\n",
    "\n",
    "자주 쓰이는 시그널\n",
    "------\n",
    "---------\n",
    "    시그널\t설명\n",
    "    pressed()\t체크 박스를 누를 때 신호를 발생합니다.\n",
    "    released()\t체크 박스에서 뗄 때 신호를 발생합니다.\n",
    "    clicked()\t체크 박스를 클릭할 때 신호를 발생합니다.\n",
    "    stateChanged()\t체크 박스의 상태가 바뀔 때 신호를 발생합니다.\n",
    "------"
   ],
   "metadata": {
    "collapsed": false,
    "pycharm": {
     "name": "#%% md\n"
    }
   }
  },
  {
   "cell_type": "code",
   "execution_count": 3,
   "outputs": [
    {
     "name": "stdout",
     "output_type": "stream",
     "text": [
      "정상적으로 종료되었습니다 :종료 코드 [0]\n"
     ]
    }
   ],
   "source": [
    "## Ex 5-3. QCheckBox.\n",
    "## 체크박스를 하나 만들고, 체크가 되어 있을 때 타이틀바에 'QCheckBox' 글자가 나타나도록 했습니다.\n",
    "## 체크박스의 상태에 따라 타이틀이 나타나고 사라집니다.\n",
    "\n",
    "\n",
    "import sys\n",
    "from PySide6.QtWidgets import QApplication, QWidget, QCheckBox\n",
    "from PySide6.QtCore import Qt\n",
    "\n",
    "\n",
    "class MyApp(QWidget):\n",
    "\n",
    "    def __init__(self):\n",
    "        super().__init__()\n",
    "        self.initUI()\n",
    "\n",
    "    def initUI(self):\n",
    "        self.cb = QCheckBox('Show title', self)\n",
    "        self.cb.move(20, 20)\n",
    "        self.cb.toggle()\n",
    "        self.cb.stateChanged.connect(self.changeTitle)\n",
    "\n",
    "        self.setWindowTitle('QCheckBox')\n",
    "        self.setGeometry(300, 300, 300, 200)\n",
    "        self.show()\n",
    "\n",
    "    def changeTitle(self, state):\n",
    "        if state == Qt.Checked:\n",
    "            self.setWindowTitle('QCheckBox')\n",
    "        else:\n",
    "            self.setWindowTitle(' ')\n",
    "\n",
    "\n",
    "\n",
    "if __name__ == '__main__':\n",
    "    if not QApplication.instance():\n",
    "        app = QApplication(sys.argv)\n",
    "    else:\n",
    "        app = QApplication.instance()\n",
    "\n",
    "    ex = MyApp()\n",
    "\n",
    "    try:\n",
    "        sys.exit(app.exec())\n",
    "    except SystemExit as e:\n",
    "        print(f\"정상적으로 종료되었습니다 :종료 코드 [{e}]\")"
   ],
   "metadata": {
    "collapsed": false,
    "pycharm": {
     "name": "#%%\n"
    }
   }
  },
  {
   "cell_type": "markdown",
   "source": [],
   "metadata": {
    "collapsed": false,
    "pycharm": {
     "name": "#%% md\n"
    }
   }
  }
 ],
 "metadata": {
  "kernelspec": {
   "display_name": "Python 3",
   "language": "python",
   "name": "python3"
  },
  "language_info": {
   "codemirror_mode": {
    "name": "ipython",
    "version": 2
   },
   "file_extension": ".py",
   "mimetype": "text/x-python",
   "name": "python",
   "nbconvert_exporter": "python",
   "pygments_lexer": "ipython2",
   "version": "2.7.6"
  }
 },
 "nbformat": 4,
 "nbformat_minor": 0
}