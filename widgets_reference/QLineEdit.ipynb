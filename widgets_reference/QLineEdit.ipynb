{
 "cells": [
  {
   "cell_type": "markdown",
   "source": [
    "# 06) QLineEdit\n",
    "------\n",
    "    QLineEdit은 한 줄의 문자열을 입력하고 수정할 수 있도록 하는 위젯입니다. (QLineEdit 공식 문서 참고)\n",
    "\n",
    "    echoMode()를 설정함으로써 '쓰기 전용' 영역으로 사용할 수 있습니다. 이 기능은 비밀번호와 같은 입력을 받을 때 유용하게 사용됩니다.\n",
    "\n",
    "    setEchoMode() 메서드로 이러한 모드를 설정할 수 있으며, 입력값과 기능은 아래 표와 같습니다.\n",
    "\n",
    "    Normal 모드를 가장 흔하게 사용하며, 기본 설정값이기도 합니다. (예시: setEchoMode(QLineEdit.Normal) 또는 setEchoMode(0))\n",
    "\n",
    "-----\n",
    "    상수\t값\t설명\n",
    "    QLineEdit.Normal\t0\t입력된 문자를 표시합니다. (기본값)\n",
    "    QLineEdit.NoEcho\t1\t문자열을 표시하지 않습니다. 이 설정은 비밀번호의 글자수도 공개하지 않을 때 유용합니다.\n",
    "    QLineEdit.Password\t2\t입력된 문자 대신 비밀번호 가림용 문자를 표시합니다.\n",
    "    QLineEdit.PasswordEchoOnEdit\t3\t입력할 때만 문자를 표시하고, 수정 중에는 다른 문자를 표시합니다.\n",
    "----"
   ],
   "metadata": {
    "collapsed": false,
    "pycharm": {
     "name": "#%% md\n"
    }
   }
  },
  {
   "cell_type": "markdown",
   "source": [
    "    maxLength() 메서드로 입력되는 텍스트의 길이를 제한할 수 있고, setValidator() 메서드로 입력되는 텍스트의 종류를 제한할 수도 있습니다.\n",
    "\n",
    "    setText() 또는 insert() 메서드로, 텍스트를 편집할 수 있고, text() 메서드로 입력된 텍스트를 가져올 수 있습니다. 만약 echoMode에 의해 입력되는 텍스트와 표시되는 텍스트가 다르다면, displayText() 메서드로 표시되는 텍스트를 가져올 수도 있습니다.\n",
    "\n",
    "    setSelection(), selectAll() 메서드로 텍스트를 선택하거나, cut(), copy(), paste() 메서드를 통해 잘라내기, 복사하기, 붙여넣기 등의 동작을 수행할 수 있습니다. 또한 setAlignment() 메서드로 텍스트의 정렬을 설정할 수 있습니다.\n",
    "\n",
    "    텍스트가 변경되거나 커서가 움직일 때, textChanged(), cursorPositionChanged()와 같은 시그널이 발생합니다.\n",
    "\n",
    "    자주 사용되는 시그널은 아래와 같습니다.\n",
    "\n",
    "------\n",
    "\n",
    "    시그널\t설명\n",
    "    cursorPositionChanged()\t커서가 움직일 때 발생하는 신호를 발생합니다.\n",
    "    editingFinished()\t편집이 끝났을 때 (Return/Enter 버튼이 눌릴 때) 신호를 발생합니다.\n",
    "    returnPressed()\tReturn/Enter 버튼이 눌릴 때 신호를 발생합니다.\n",
    "    selectionChanged()\t선택 영역이 바뀔 때 신호를 발생합니다.\n",
    "    textChanged()\t텍스트가 변경될 때 신호를 발생합니다.\n",
    "    textEdited()\t텍스트가 편집될 때 신호를 발생합니다.\n",
    "\n",
    "-----"
   ],
   "metadata": {
    "collapsed": false,
    "pycharm": {
     "name": "#%% md\n"
    }
   }
  },
  {
   "cell_type": "code",
   "execution_count": 7,
   "outputs": [
    {
     "name": "stdout",
     "output_type": "stream",
     "text": [
      "정상적으로 종료되었습니다 :종료 코드 [0]\n"
     ]
    }
   ],
   "source": [
    "## Ex 5-6. QLineEdit.\n",
    "# 위젯에 하나의 라벨 QLabel 위젯과 하나의 QLineEdit 위젯이 포함됩니다.\n",
    "# QLineEdit 위젯에서 입력되고 수정되는 텍스트가 라벨에 즉시 표시됩니다.\n",
    "\n",
    "\n",
    "import sys\n",
    "from PySide6.QtWidgets import QApplication, QWidget, QLabel, QLineEdit, QVBoxLayout\n",
    "from PySide6.QtCore import Qt\n",
    "\n",
    "\n",
    "class MyApp(QWidget):\n",
    "\n",
    "    def __init__(self):\n",
    "        super().__init__()\n",
    "        self.initUI()\n",
    "\n",
    "    def initUI(self):\n",
    "        self.lbl = QLabel()\n",
    "        # self.lbl.move(60, 40)\n",
    "\n",
    "        self.qle = QLineEdit()\n",
    "        # self.qle.move(60, 100)\n",
    "        self.qle.textChanged[str].connect(self.onChanged)  # 정상 작동\n",
    "        self.qle.keyReleaseEvent = self.process_key        # 쌍자음 깨짐 현상 수정\n",
    "\n",
    "        self.vlayout = QVBoxLayout()\n",
    "        self.vlayout.addWidget(self.lbl)\n",
    "        self.vlayout.addWidget(self.qle)\n",
    "\n",
    "        self.setLayout(self.vlayout)\n",
    "\n",
    "        self.setWindowTitle('QLineEdit')\n",
    "        self.setGeometry(300, 300, 300, 200)\n",
    "        self.show()\n",
    "\n",
    "    def onChanged(self, text):\n",
    "        self.lbl.setText(text)\n",
    "        self.lbl.setAlignment(Qt.AlignHCenter)\n",
    "        # self.lbl.adjustSize()\n",
    "\n",
    "    def process_key(self, event):\n",
    "        pass\n",
    "\n",
    "\n",
    "if __name__ == '__main__':\n",
    "    if not QApplication.instance():\n",
    "        app = QApplication(sys.argv)\n",
    "    else:\n",
    "        app = QApplication.instance()\n",
    "\n",
    "    ex = MyApp()\n",
    "\n",
    "    try:\n",
    "        sys.exit(app.exec())\n",
    "    except SystemExit as e:\n",
    "        print(f\"정상적으로 종료되었습니다 :종료 코드 [{e}]\")"
   ],
   "metadata": {
    "collapsed": false,
    "pycharm": {
     "name": "#%%\n"
    }
   }
  }
 ],
 "metadata": {
  "kernelspec": {
   "display_name": "Python 3",
   "language": "python",
   "name": "python3"
  },
  "language_info": {
   "codemirror_mode": {
    "name": "ipython",
    "version": 2
   },
   "file_extension": ".py",
   "mimetype": "text/x-python",
   "name": "python",
   "nbconvert_exporter": "python",
   "pygments_lexer": "ipython2",
   "version": "2.7.6"
  }
 },
 "nbformat": 4,
 "nbformat_minor": 0
}