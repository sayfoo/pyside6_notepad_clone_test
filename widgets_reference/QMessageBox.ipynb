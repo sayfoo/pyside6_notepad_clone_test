{
 "cells": [
  {
   "cell_type": "markdown",
   "source": [
    "# QMessageBox\n",
    "-----\n",
    " # 파이썬에서 PyQt5를 이용해서 GUI를 구성한 코딩을 할 때 창이 닫히는 순간 특정 이벤트를 실행하게 할 수 있습니다.\n",
    "\n",
    "    예를 들어 창이 닫힐 때 \"정말 닫을건가요?\" 라고 묻는 팝업 창을 띄울 수 있습니다.\n",
    "    QMessageBox 클래스는 사용자에게 정보를 제공하거나 질문과 대답을 할 수 있는 대화창을 제공합니다.\n",
    "\n",
    "    흔히 어떤 동작에 대해 확인이 필요한 경우에 메세지 박스를 사용합니다. (QMessageBox 공식 문서 참고)\n",
    "\n",
    "\n",
    "    메세지 박스에서는 사용자에게 상황을 설명하는 기본 텍스트를 표시합니다. 그 다음 정보를 전달하거나 사용자의 의사를 묻는 텍스트를 표시할 수 있습니다.\n",
    "\n",
    "    마지막으로 더욱 자세히 상황을 설명하기 위한 세부적인 텍스트를 표시할 수 있습니다.\n",
    "\n",
    "\n",
    "    이러한 각각의 텍스트를 표시하기 위해 setText()/setInformativeText()/setDetailedText() 메서드를 사용할 수 있습니다.\n",
    "-----"
   ],
   "metadata": {
    "collapsed": false,
    "pycharm": {
     "name": "#%% md\n"
    }
   }
  },
  {
   "cell_type": "code",
   "execution_count": 2,
   "outputs": [
    {
     "name": "stdout",
     "output_type": "stream",
     "text": [
      "정상적으로 종료했을까 0\n"
     ]
    }
   ],
   "source": [
    "## Ex 6-5. QMessageBox.\n",
    "\n",
    "import sys\n",
    "from PySide6.QtWidgets import QApplication, QWidget, QMessageBox\n",
    "\n",
    "\n",
    "class MyApp(QWidget):\n",
    "\n",
    "    def __init__(self):\n",
    "        super().__init__()\n",
    "        self.initUI()\n",
    "\n",
    "    def initUI(self):\n",
    "        self.setWindowTitle('QMessageBox')\n",
    "        self.setGeometry(300, 300, 300, 200)\n",
    "        self.show()\n",
    "\n",
    "    def closeEvent(self, event):\n",
    "        reply = QMessageBox.question(self, 'Message', 'Are you sure to quit?',\n",
    "                                    QMessageBox.Yes | QMessageBox.No, QMessageBox.No)\n",
    "\n",
    "        if reply == QMessageBox.Yes:\n",
    "            event.accept()\n",
    "        else:\n",
    "            event.ignore()\n",
    "\n",
    "\n",
    "if __name__ == '__main__':\n",
    "    if not QApplication.instance():\n",
    "        app = QApplication(sys.argv)\n",
    "    else:\n",
    "        app = QApplication.instance()\n",
    "\n",
    "    ex = MyApp()\n",
    "    try:\n",
    "        sys.exit(app.exec())\n",
    "    except SystemExit as e:\n",
    "        print(f\"정상적으로 종료했을까 {e}\")"
   ],
   "metadata": {
    "collapsed": false,
    "pycharm": {
     "name": "#%%\n"
    }
   }
  },
  {
   "cell_type": "code",
   "execution_count": null,
   "outputs": [],
   "source": [],
   "metadata": {
    "collapsed": false,
    "pycharm": {
     "name": "#%%\n"
    }
   }
  }
 ],
 "metadata": {
  "kernelspec": {
   "display_name": "Python 3",
   "language": "python",
   "name": "python3"
  },
  "language_info": {
   "codemirror_mode": {
    "name": "ipython",
    "version": 2
   },
   "file_extension": ".py",
   "mimetype": "text/x-python",
   "name": "python",
   "nbconvert_exporter": "python",
   "pygments_lexer": "ipython2",
   "version": "2.7.6"
  }
 },
 "nbformat": 4,
 "nbformat_minor": 0
}