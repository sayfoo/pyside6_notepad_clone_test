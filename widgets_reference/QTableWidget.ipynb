{
 "cells": [
  {
   "cell_type": "markdown",
   "source": [
    "# QTableWidget\n",
    "QTableWidget 클래스는 테이블 형태로 항목을 배치하고 다루도록 합니다.\n",
    "\n",
    "이 페이지에서는 PyQt5 위젯에서 테이블을 만들어 항목을 배치하고 수정하는 방법을 소개합니다.\n"
   ],
   "metadata": {
    "collapsed": false,
    "pycharm": {
     "name": "#%% md\n"
    }
   }
  },
  {
   "cell_type": "code",
   "execution_count": 2,
   "outputs": [
    {
     "name": "stdout",
     "output_type": "stream",
     "text": [
      "정상적으로 종료되었습니다 :종료 코드 [0]\n"
     ]
    }
   ],
   "source": [
    "## Ex 5-21. QTableWidget.\n",
    "\n",
    "import sys\n",
    "from PySide6.QtWidgets import *\n",
    "\n",
    "\n",
    "class MyApp(QWidget):\n",
    "\n",
    "    def __init__(self):\n",
    "        super().__init__()\n",
    "        self.initUI()\n",
    "\n",
    "    def initUI(self):\n",
    "\n",
    "        self.tableWidget = QTableWidget()\n",
    "        self.tableWidget.setRowCount(20)\n",
    "        self.tableWidget.setColumnCount(4)\n",
    "\n",
    "        self.tableWidget.setEditTriggers(QAbstractItemView.NoEditTriggers)\n",
    "        # self.tableWidget.setEditTriggers(QAbstractItemView.DoubleClicked)\n",
    "        # self.tableWidget.setEditTriggers(QAbstractItemView.AllEditTriggers)\n",
    "\n",
    "        self.tableWidget.horizontalHeader().setSectionResizeMode(QHeaderView.Stretch)\n",
    "        # self.tableWidget.horizontalHeader().setSectionResizeMode(QHeaderView.ResizeToContents)\n",
    "\n",
    "        self.tableWidget.setHorizontalHeaderLabels([\"하나\", \"둘\", \"셋\", \"넷\"])\n",
    "        for i in range(20):\n",
    "            for j in range(4):\n",
    "                self.tableWidget.setItem(i, j, QTableWidgetItem(str(i+j)))\n",
    "\n",
    "        layout = QVBoxLayout()\n",
    "        layout.addWidget(self.tableWidget)\n",
    "        self.setLayout(layout)\n",
    "\n",
    "        self.setWindowTitle('QTableWidget')\n",
    "        self.setGeometry(300, 100, 600, 400)\n",
    "        self.show()\n",
    "\n",
    "\n",
    "if __name__ == \"__main__\":\n",
    "    if not QApplication.instance():\n",
    "        app = QApplication(sys.argv)\n",
    "    else:\n",
    "        app = QApplication.instance()\n",
    "\n",
    "    win = MyApp()\n",
    "\n",
    "    try:\n",
    "        sys.exit(app.exec())\n",
    "    except SystemExit as e:\n",
    "        print(f\"정상적으로 종료되었습니다 :종료 코드 [{e}]\")"
   ],
   "metadata": {
    "collapsed": false,
    "pycharm": {
     "name": "#%%\n"
    }
   }
  },
  {
   "cell_type": "code",
   "execution_count": 1,
   "outputs": [],
   "source": [],
   "metadata": {
    "collapsed": false,
    "pycharm": {
     "name": "#%%\n"
    }
   }
  },
  {
   "cell_type": "code",
   "execution_count": null,
   "outputs": [],
   "source": [],
   "metadata": {
    "collapsed": false,
    "pycharm": {
     "name": "#%%\n"
    }
   }
  }
 ],
 "metadata": {
  "kernelspec": {
   "display_name": "Python 3",
   "language": "python",
   "name": "python3"
  },
  "language_info": {
   "codemirror_mode": {
    "name": "ipython",
    "version": 2
   },
   "file_extension": ".py",
   "mimetype": "text/x-python",
   "name": "python",
   "nbconvert_exporter": "python",
   "pygments_lexer": "ipython2",
   "version": "2.7.6"
  }
 },
 "nbformat": 4,
 "nbformat_minor": 0
}