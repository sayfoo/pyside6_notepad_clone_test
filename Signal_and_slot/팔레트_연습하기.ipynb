{
 "cells": [
  {
   "cell_type": "code",
   "execution_count": 1,
   "outputs": [
    {
     "data": {
      "text/plain": "'D:\\\\PyCharmProjects\\\\pyside6_notepad_clone_test\\\\Signal_and_slot'"
     },
     "execution_count": 1,
     "metadata": {},
     "output_type": "execute_result"
    }
   ],
   "source": [
    "pwd"
   ],
   "metadata": {
    "collapsed": false,
    "pycharm": {
     "name": "#%%\n"
    }
   }
  },
  {
   "cell_type": "code",
   "execution_count": 50,
   "outputs": [
    {
     "name": "stdout",
     "output_type": "stream",
     "text": [
      "Default style: fusion\n",
      "fusion\n",
      "정상적으로 종료가 되었을까...[0]\n"
     ]
    }
   ],
   "source": [
    "from PySide6.QtWidgets import (QApplication, QMainWindow, QWidget, QHBoxLayout, QVBoxLayout, QLabel, QLineEdit, QPushButton,\n",
    "                               QStyleFactory)\n",
    "from PySide6.QtCore import Qt\n",
    "from PySide6.QtGui import QIcon, QPixmap, QFont, QBrush, QColor, QPalette\n",
    "import sys\n",
    "\n",
    "\n",
    "class MyApp(QWidget):\n",
    "\n",
    "    def __init__(self):\n",
    "        super().__init__()\n",
    "        self.init_ui()\n",
    "\n",
    "    def init_ui(self):\n",
    "        #---------------------------------------------------------------------------------------------------#\n",
    "        #                       setWindowFlag : set Qt.FramelessWindowHint on the window\n",
    "        #---------------------------------------------------------------------------------------------------#\n",
    "        self.setWindowFlag(Qt.FramelessWindowHint)\n",
    "        # self.setWindowFlag(Qt.WindowStaysOnTopHint)\n",
    "        #---------------------------------------------------------------------------------------------------#\n",
    "        #                       QPalette : set brush image with pixmap on the window\n",
    "        #---------------------------------------------------------------------------------------------------#\n",
    "        self.plt = QPalette()\n",
    "        self.pmp = QPixmap(\"../img/large_qfactory.png\")\n",
    "        # pmp.scaled(self.size(), Qt.KeepAspectRatio, Qt.SmoothTransformation)\n",
    "        self.plt.setBrush(QPalette.Window, QBrush(self.pmp))\n",
    "        self.setPalette(self.plt)\n",
    "        #---------------------------------------------------------------------------------------------------#\n",
    "\n",
    "        self.setWindowTitle(\"팔레트\")\n",
    "        self.setWindowIcon(QIcon(\"../img/icon_q.png\"))\n",
    "        self.setGeometry(300, 300, 800, 500)\n",
    "        self.setWindowFlag(Qt.FramelessWindowHint)\n",
    "        self.show()\n",
    "\n",
    "\n",
    "if __name__ == \"__main__\":\n",
    "    if not QApplication.instance():\n",
    "        app = QApplication(sys.argv)\n",
    "    else:\n",
    "        app = QApplication.instance()\n",
    "        app.setStyle(QStyleFactory.create(\"Fusion\"))\n",
    "        print(f\"Default style: {app.style().name()}\")\n",
    "        print(app.style().objectName())\n",
    "\n",
    "    exe = MyApp()\n",
    "    try:\n",
    "        sys.exit(app.exec())\n",
    "    except SystemExit as e:\n",
    "        print(f\"정상적으로 종료가 되었을까...[{e}]\")"
   ],
   "metadata": {
    "collapsed": false,
    "pycharm": {
     "name": "#%%\n"
    }
   }
  },
  {
   "cell_type": "code",
   "execution_count": 41,
   "outputs": [
    {
     "name": "stdout",
     "output_type": "stream",
     "text": [
      "Keys: ['windowsvista', 'Windows', 'Fusion']\n",
      "Default style: windowsvista\n"
     ]
    },
    {
     "data": {
      "text/plain": "<PySide6.QtWidgets.QCommonStyle(0x22710517a10, name = \"fusion\") at 0x00000227140805C0>"
     },
     "execution_count": 41,
     "metadata": {},
     "output_type": "execute_result"
    }
   ],
   "source": [
    "# Import necessary modules\n",
    "import sys\n",
    "from PySide6.QtWidgets import QApplication, QStyleFactory\n",
    "\n",
    "# Find out your OS's available styles\n",
    "print(f\"Keys: {QStyleFactory.keys()}\")\n",
    "\n",
    "# To find out the default style applied to an application\n",
    "app = QApplication.instance()\n",
    "print(f\"Default style: {app.style().name()}\")\n",
    "app.setStyle(\"Fusion\")"
   ],
   "metadata": {
    "collapsed": false,
    "pycharm": {
     "name": "#%%\n"
    }
   }
  },
  {
   "cell_type": "code",
   "execution_count": 48,
   "outputs": [
    {
     "name": "stdout",
     "output_type": "stream",
     "text": [
      "Keys: ['windowsvista', 'Windows', 'Fusion']\n"
     ]
    }
   ],
   "source": [
    "print(f\"Keys: {QStyleFactory.keys()}\")"
   ],
   "metadata": {
    "collapsed": false,
    "pycharm": {
     "name": "#%%\n"
    }
   }
  },
  {
   "cell_type": "code",
   "execution_count": null,
   "outputs": [],
   "source": [],
   "metadata": {
    "collapsed": false,
    "pycharm": {
     "name": "#%%\n"
    }
   }
  }
 ],
 "metadata": {
  "kernelspec": {
   "display_name": "Python 3",
   "language": "python",
   "name": "python3"
  },
  "language_info": {
   "codemirror_mode": {
    "name": "ipython",
    "version": 2
   },
   "file_extension": ".py",
   "mimetype": "text/x-python",
   "name": "python",
   "nbconvert_exporter": "python",
   "pygments_lexer": "ipython2",
   "version": "2.7.6"
  }
 },
 "nbformat": 4,
 "nbformat_minor": 0
}