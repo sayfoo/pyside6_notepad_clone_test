{
 "cells": [
  {
   "cell_type": "markdown",
   "source": [
    "# 이벤트 핸들러 만들기\n",
    "\n",
    "\n",
    "PyQt에서 이벤트(시그널) 처리를 할 때 사용되는 함수를 이벤트 핸들러 (슬롯)라고 합니다.\n",
    "\n",
    "'Big', 'Small' 버튼을 클릭(시그널이 발생)했을 때, 창의 크기가 바뀌도록 하는 함수(슬롯)를 정의해보겠습니다."
   ],
   "metadata": {
    "collapsed": false,
    "pycharm": {
     "name": "#%% md\n"
    }
   }
  },
  {
   "cell_type": "code",
   "execution_count": 5,
   "outputs": [
    {
     "name": "stdout",
     "output_type": "stream",
     "text": [
      "정상적으로 종료 되었을까...[0]\n"
     ]
    }
   ],
   "source": [
    "from PySide6.QtWidgets import (QApplication, QWidget, QHBoxLayout, QVBoxLayout,\n",
    "                               QPushButton, QLCDNumber, QDial)\n",
    "from PySide6.QtGui import Qt\n",
    "import sys\n",
    "\n",
    "\n",
    "class MyWin(QWidget):\n",
    "\n",
    "    def __init__(self):\n",
    "        super().__init__()\n",
    "        self.init_ui()\n",
    "\n",
    "    def init_ui(self):\n",
    "        self.lcd = QLCDNumber()\n",
    "        self.lcd.setDigitCount(4)\n",
    "        self.dial = QDial()\n",
    "        self.btn1 = QPushButton(\"Small\")\n",
    "        self.btn2 = QPushButton(\"large\")\n",
    "\n",
    "        self.hbox = QHBoxLayout()\n",
    "        self.vbox = QVBoxLayout()\n",
    "\n",
    "        self.hbox.addWidget(self.btn1)\n",
    "        self.hbox.addWidget(self.btn2)\n",
    "\n",
    "        self.vbox.addWidget(self.lcd)\n",
    "        self.vbox.addWidget(self.dial)\n",
    "\n",
    "        self.vbox.addLayout(self.hbox)\n",
    "        self.setLayout(self.vbox)\n",
    "\n",
    "        self.dial.valueChanged[int].connect(self.display_lcd)\n",
    "        self.btn1.clicked.connect(self.resize_large)\n",
    "        self.btn2.clicked.connect(self.resize_small)\n",
    "\n",
    "        self.setWindowTitle(\"이벤트 핸들러 만들기\")\n",
    "        self.setGeometry(300, 300, 300, 300)\n",
    "        self.show()\n",
    "\n",
    "    def display_lcd(self, value):\n",
    "        self.lcd.display(f\"{value:04d}\")\n",
    "\n",
    "    def resize_large(self):\n",
    "        self.resize(500, 500)\n",
    "\n",
    "    def resize_small(self):\n",
    "        self.resize(150, 150)\n",
    "\n",
    "if __name__ == \"__main__\":\n",
    "    if not QApplication.instance():\n",
    "        app = QApplication(sys.argv)\n",
    "    else:\n",
    "        app = QApplication.instance()\n",
    "\n",
    "    exe = MyWin()\n",
    "\n",
    "    try:\n",
    "        sys.exit(app.exec())\n",
    "    except SystemExit as e:\n",
    "        print(f\"정상적으로 종료 되었을까...[{0}]\")\n"
   ],
   "metadata": {
    "collapsed": false,
    "pycharm": {
     "name": "#%%\n"
    }
   }
  },
  {
   "cell_type": "code",
   "execution_count": 7,
   "outputs": [
    {
     "name": "stdout",
     "output_type": "stream",
     "text": [
      "QApplication.instance() sys.argv = ['F:\\\\PyCharmProjects\\\\pyside6_notepad_clone_test\\\\venv\\\\lib\\\\site-packages\\\\ipykernel_launcher.py', '-f', 'C:\\\\Users\\\\user\\\\AppData\\\\Roaming\\\\jupyter\\\\runtime\\\\kernel-8e58ddb7-310d-4098-a549-acbd23ef5547.json']\n"
     ]
    },
    {
     "ename": "AttributeError",
     "evalue": "type object 'PySide6.QtGui.QPalette' has no attribute 'Background'",
     "output_type": "error",
     "traceback": [
      "\u001B[1;31m---------------------------------------------------------------------------\u001B[0m",
      "\u001B[1;31mAttributeError\u001B[0m                            Traceback (most recent call last)",
      "Input \u001B[1;32mIn [7]\u001B[0m, in \u001B[0;36m<cell line: 32>\u001B[1;34m()\u001B[0m\n\u001B[0;32m     37\u001B[0m     app \u001B[38;5;241m=\u001B[39m QApplication\u001B[38;5;241m.\u001B[39minstance()\n\u001B[0;32m     38\u001B[0m     \u001B[38;5;28mprint\u001B[39m(\u001B[38;5;124mf\u001B[39m\u001B[38;5;124m\"\u001B[39m\u001B[38;5;124mQApplication.instance() \u001B[39m\u001B[38;5;132;01m{\u001B[39;00msys\u001B[38;5;241m.\u001B[39margv \u001B[38;5;132;01m= }\u001B[39;00m\u001B[38;5;124m\"\u001B[39m)\n\u001B[1;32m---> 40\u001B[0m exe \u001B[38;5;241m=\u001B[39m \u001B[43mMyApp\u001B[49m\u001B[43m(\u001B[49m\u001B[43m)\u001B[49m\n\u001B[0;32m     41\u001B[0m exe\u001B[38;5;241m.\u001B[39mshow()\n\u001B[0;32m     43\u001B[0m \u001B[38;5;28;01mtry\u001B[39;00m:\n",
      "Input \u001B[1;32mIn [7]\u001B[0m, in \u001B[0;36mMyApp.__init__\u001B[1;34m(self)\u001B[0m\n\u001B[0;32m     17\u001B[0m \u001B[38;5;66;03m# # 배경 사진\u001B[39;00m\n\u001B[0;32m     18\u001B[0m palette \u001B[38;5;241m=\u001B[39m QPalette()\n\u001B[1;32m---> 19\u001B[0m palette\u001B[38;5;241m.\u001B[39msetBrush(\u001B[43mQPalette\u001B[49m\u001B[38;5;241;43m.\u001B[39;49m\u001B[43mBackground\u001B[49m,QBrush(QPixmap(\u001B[38;5;124m\"\u001B[39m\u001B[38;5;124m../img/large_qfactory.png\u001B[39m\u001B[38;5;124m\"\u001B[39m)))\n\u001B[0;32m     20\u001B[0m \u001B[38;5;28mself\u001B[39m\u001B[38;5;241m.\u001B[39msetPalette(palette)\n\u001B[0;32m     22\u001B[0m \u001B[38;5;66;03m# 배경 색칠\u001B[39;00m\n",
      "\u001B[1;31mAttributeError\u001B[0m: type object 'PySide6.QtGui.QPalette' has no attribute 'Background'"
     ]
    }
   ],
   "source": [
    "import sys\n",
    "from PySide6.QtWidgets import QApplication, QWidget\n",
    "from PySide6.QtCore import Qt\n",
    "from PySide6.QtGui import QIcon, QPalette, QPixmap, QColor, QBrush\n",
    "\n",
    "class MyApp(QWidget):\n",
    "\n",
    "    def __init__(self):\n",
    "        super().__init__()\n",
    "        # 이런 코드등으로 윈도우 스타일을 지정할수 있습니다.\n",
    "        # self.setWindowFlags(Qt.FramelessWindowHint)\n",
    "        self.setWindowFlags(Qt.X11BypassWindowManagerHint)\n",
    "\n",
    "        # 아이콘\n",
    "        self.setWindowIcon(QIcon('../img/bizarim.png')) # icon.png 대신 원하는 아이콘을\n",
    "\n",
    "        # # 배경 사진\n",
    "        # palette = QPalette()\n",
    "        # palette.setBrush(QPalette.Background,QBrush(QPixmap(\"../img/large_qfactory.png\")))\n",
    "        # self.setPalette(palette)\n",
    "\n",
    "        # 배경 색칠\n",
    "        self.teb_gb_co = QPalette()\n",
    "        self.teb_gb_co.setColor(QPalette.backgroud, QColor(0, 0, 0))\n",
    "        self.setPalette(self.teb_gb_co)\n",
    "\n",
    "\n",
    "        self.setWindowTitle(\"test\")\n",
    "        self.setGeometry(300, 300, 600, 300)\n",
    "        self.show()\n",
    "\n",
    "if __name__ == \"__main__\":\n",
    "    if not QApplication.instance():\n",
    "        app = QApplication(sys.argv)\n",
    "        print(f\"QApplication(sys.argv) {sys.argv = }\")\n",
    "    else:\n",
    "        app = QApplication.instance()\n",
    "        print(f\"QApplication.instance() {sys.argv = }\")\n",
    "\n",
    "    exe = MyApp()\n",
    "    exe.show()\n",
    "\n",
    "    try:\n",
    "        sys.exit(app.exec())\n",
    "    except SystemExit as e:\n",
    "        print(f\"정상적으로 종료 되었을까...[{0}]\")"
   ],
   "metadata": {
    "collapsed": false,
    "pycharm": {
     "name": "#%%\n"
    }
   }
  },
  {
   "cell_type": "code",
   "execution_count": null,
   "outputs": [],
   "source": [],
   "metadata": {
    "collapsed": false,
    "pycharm": {
     "name": "#%%\n"
    }
   }
  },
  {
   "cell_type": "code",
   "execution_count": null,
   "outputs": [],
   "source": [],
   "metadata": {
    "collapsed": false,
    "pycharm": {
     "name": "#%%\n"
    }
   }
  }
 ],
 "metadata": {
  "kernelspec": {
   "display_name": "Python 3",
   "language": "python",
   "name": "python3"
  },
  "language_info": {
   "codemirror_mode": {
    "name": "ipython",
    "version": 2
   },
   "file_extension": ".py",
   "mimetype": "text/x-python",
   "name": "python",
   "nbconvert_exporter": "python",
   "pygments_lexer": "ipython2",
   "version": "2.7.6"
  }
 },
 "nbformat": 4,
 "nbformat_minor": 0
}