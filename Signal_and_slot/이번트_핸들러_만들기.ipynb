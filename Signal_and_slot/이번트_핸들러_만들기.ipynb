{
 "cells": [
  {
   "cell_type": "markdown",
   "source": [
    "# 이벤트 핸들러 만들기\n",
    "\n",
    "\n",
    "PyQt에서 이벤트(시그널) 처리를 할 때 사용되는 함수를 이벤트 핸들러 (슬롯)라고 합니다.\n",
    "\n",
    "'Big', 'Small' 버튼을 클릭(시그널이 발생)했을 때, 창의 크기가 바뀌도록 하는 함수(슬롯)를 정의해보겠습니다."
   ],
   "metadata": {
    "collapsed": false,
    "pycharm": {
     "name": "#%% md\n"
    }
   }
  },
  {
   "cell_type": "code",
   "execution_count": 18,
   "outputs": [
    {
     "name": "stdout",
     "output_type": "stream",
     "text": [
      "정상적으로 종료 되었을까...[0]\n"
     ]
    }
   ],
   "source": [
    "from PySide6.QtWidgets import (QApplication, QWidget, QHBoxLayout, QVBoxLayout,\n",
    "                               QPushButton, QLCDNumber, QDial)\n",
    "from PySide6.QtGui import Qt\n",
    "import sys\n",
    "\n",
    "\n",
    "class MyWin(QWidget):\n",
    "\n",
    "    def __init__(self):\n",
    "        super().__init__()\n",
    "        self.init_ui()\n",
    "\n",
    "    def init_ui(self):\n",
    "        self.lcd = QLCDNumber()\n",
    "        self.lcd.setDigitCount(4)\n",
    "        self.dial = QDial()\n",
    "        self.btn1 = QPushButton(\"Small\")\n",
    "        self.btn2 = QPushButton(\"large\")\n",
    "\n",
    "        self.hbox = QHBoxLayout()\n",
    "        self.vbox = QVBoxLayout()\n",
    "\n",
    "        self.hbox.addWidget(self.btn1)\n",
    "        self.hbox.addWidget(self.btn2)\n",
    "\n",
    "        self.vbox.addWidget(self.lcd)\n",
    "        self.vbox.addWidget(self.dial)\n",
    "\n",
    "        self.vbox.addLayout(self.hbox)\n",
    "        self.setLayout(self.vbox)\n",
    "\n",
    "        self.dial.valueChanged[int].connect(self.display_lcd)\n",
    "        self.btn1.clicked.connect(self.resize_large)\n",
    "        self.btn2.clicked.connect(self.resize_small)\n",
    "\n",
    "        self.setWindowTitle(\"이벤트 핸들러 만들기\")\n",
    "        self.setGeometry(300, 300, 300, 300)\n",
    "        self.show()\n",
    "\n",
    "    def display_lcd(self, value):\n",
    "        self.lcd.display(f\"{value:04d}\")\n",
    "\n",
    "    def resize_large(self):\n",
    "        self.resize(500, 500)\n",
    "\n",
    "    def resize_small(self):\n",
    "        self.resize(150, 150)\n",
    "\n",
    "if __name__ == \"__main__\":\n",
    "    if not QApplication.instance():\n",
    "        app = QApplication(sys.argv)\n",
    "    else:\n",
    "        app = QApplication.instance()\n",
    "\n",
    "    exe = MyWin()\n",
    "\n",
    "    try:\n",
    "        sys.exit(app.exec())\n",
    "    except SystemExit as e:\n",
    "        print(f\"정상적으로 종료 되었을까...[{0}]\")\n",
    "\n"
   ],
   "metadata": {
    "collapsed": false,
    "pycharm": {
     "name": "#%%\n"
    }
   }
  }
 ],
 "metadata": {
  "kernelspec": {
   "display_name": "Python 3",
   "language": "python",
   "name": "python3"
  },
  "language_info": {
   "codemirror_mode": {
    "name": "ipython",
    "version": 2
   },
   "file_extension": ".py",
   "mimetype": "text/x-python",
   "name": "python",
   "nbconvert_exporter": "python",
   "pygments_lexer": "ipython2",
   "version": "2.7.6"
  }
 },
 "nbformat": 4,
 "nbformat_minor": 0
}