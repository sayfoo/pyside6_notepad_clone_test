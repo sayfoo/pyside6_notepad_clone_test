{
 "cells": [
  {
   "cell_type": "markdown",
   "source": [
    "# 이벤트 핸들러 재구성하기\n",
    "아래와 같이 자주 쓰이는 이벤트 핸들러는 이미 만들어져 있는 경우가 많습니다.\n",
    "\n",
    "    이벤트 핸들러\t설명\n",
    "    keyPressEvent\t키보드를 눌렀을 때 동작합니다.\n",
    "    keyReleaseEvent\t키보드를 눌렀다가 뗄 때 동작합니다.\n",
    "    mouseDoubleClickEvent\t마우스를 더블클릭할 때 동작합니다.\n",
    "    mouseMoveEvent\t마우스를 움직일 때 동작합니다.\n",
    "    mousePressEvent\t마우스를 누를 때 동작합니다.\n",
    "    mouseReleaseEvent\t마우스를 눌렀다가 뗄 때 동작합니다.\n",
    "    moveEvent\t위젯이 이동할 때 동작합니다.\n",
    "    resizeEvent\t위젯의 크기를 변경할 때 동작합니다.\n",
    "### keyPressEvent 이벤트 핸들러를 수정해서, 특정 키를 눌렀을 때 위젯을 종료하거나 최대화, 보통 크기로 조절하는 기능을 구현해보겠습니다.\n",
    "### 'esc', 'F', 'N' 키를 클릭하면 창이 종료되거나 최대화, 보통 크기가 되도록 이벤트 핸들러를 재구성했습니다."
   ],
   "metadata": {
    "collapsed": false,
    "pycharm": {
     "name": "#%% md\n"
    }
   }
  },
  {
   "cell_type": "code",
   "execution_count": 11,
   "outputs": [
    {
     "name": "stdout",
     "output_type": "stream",
     "text": [
      "type(e) = <class 'PySide6.QtGui.QKeyEvent'> e.key() = 78\n",
      "type(e) = <class 'PySide6.QtGui.QKeyEvent'> e.key() = 78\n",
      "type(e) = <class 'PySide6.QtGui.QKeyEvent'> e.key() = 70\n",
      "type(e) = <class 'PySide6.QtGui.QKeyEvent'> e.key() = 78\n",
      "type(e) = <class 'PySide6.QtGui.QKeyEvent'> e.key() = 65\n",
      "type(e) = <class 'PySide6.QtGui.QKeyEvent'> e.key() = 66\n",
      "type(e) = <class 'PySide6.QtGui.QKeyEvent'> e.key() = 67\n",
      "type(e) = <class 'PySide6.QtGui.QKeyEvent'> e.key() = 65\n",
      "type(e) = <class 'PySide6.QtGui.QKeyEvent'> e.key() = 16777248\n",
      "type(e) = <class 'PySide6.QtGui.QKeyEvent'> e.key() = 65\n",
      "type(e) = <class 'PySide6.QtGui.QKeyEvent'> e.key() = 16777248\n",
      "type(e) = <class 'PySide6.QtGui.QKeyEvent'> e.key() = 65\n",
      "type(e) = <class 'PySide6.QtGui.QKeyEvent'> e.key() = 16777248\n",
      "type(e) = <class 'PySide6.QtGui.QKeyEvent'> e.key() = 65\n",
      "type(e) = <class 'PySide6.QtGui.QKeyEvent'> e.key() = 65\n",
      "type(e) = <class 'PySide6.QtGui.QKeyEvent'> e.key() = 83\n",
      "type(e) = <class 'PySide6.QtGui.QKeyEvent'> e.key() = 16777248\n",
      "type(e) = <class 'PySide6.QtGui.QKeyEvent'> e.key() = 16777216\n",
      "정상적으로 종료 되었을까...[0]\n"
     ]
    }
   ],
   "source": [
    "## Ex 7-3. 이벤트 핸들러 재구성하기.\n",
    "\n",
    "import sys\n",
    "from PySide6.QtCore import Qt\n",
    "from PySide6.QtWidgets import QApplication, QWidget\n",
    "\n",
    "\n",
    "class MyApp(QWidget):\n",
    "\n",
    "    def __init__(self):\n",
    "        super().__init__()\n",
    "        self.initUI()\n",
    "\n",
    "    def initUI(self):\n",
    "        self.setWindowTitle('Reimplementing event handler')\n",
    "        self.setGeometry(300, 300, 300, 200)\n",
    "        self.show()\n",
    "\n",
    "    def keyPressEvent(self, e):\n",
    "        print(f\"{type(e) = } {e.key() = }\")\n",
    "        if e.key() == Qt.Key_Escape:\n",
    "            self.close()\n",
    "        elif e.key() == Qt.Key_F:\n",
    "            self.showFullScreen()\n",
    "        elif e.key() == Qt.Key_N:\n",
    "            self.showNormal()\n",
    "\n",
    "if __name__ == \"__main__\":\n",
    "    if not QApplication.instance():\n",
    "        app = QApplication(sys.argv)\n",
    "    else:\n",
    "        app = QApplication.instance()\n",
    "\n",
    "    exe = MyApp()\n",
    "\n",
    "    try:\n",
    "        sys.exit(app.exec())\n",
    "    except SystemExit as e:\n",
    "        print(f\"정상적으로 종료 되었을까...[{0}]\")"
   ],
   "metadata": {
    "collapsed": false,
    "pycharm": {
     "name": "#%%\n"
    }
   }
  },
  {
   "cell_type": "code",
   "execution_count": null,
   "outputs": [],
   "source": [],
   "metadata": {
    "collapsed": false,
    "pycharm": {
     "name": "#%%\n"
    }
   }
  },
  {
   "cell_type": "code",
   "execution_count": 13,
   "outputs": [
    {
     "name": "stdout",
     "output_type": "stream",
     "text": [
      "<class 'PySide6.QtGui.QMouseEvent'> x = PySide6.QtCore.QPointF(294.000000, 85.000000)\n",
      "<class 'PySide6.QtGui.QMouseEvent'> x = PySide6.QtCore.QPointF(287.000000, 85.000000)\n",
      "<class 'PySide6.QtGui.QMouseEvent'> x = PySide6.QtCore.QPointF(279.000000, 85.000000)\n",
      "<class 'PySide6.QtGui.QMouseEvent'> x = PySide6.QtCore.QPointF(268.000000, 85.000000)\n",
      "<class 'PySide6.QtGui.QMouseEvent'> x = PySide6.QtCore.QPointF(256.000000, 85.000000)\n",
      "<class 'PySide6.QtGui.QMouseEvent'> x = PySide6.QtCore.QPointF(242.000000, 85.000000)\n",
      "<class 'PySide6.QtGui.QMouseEvent'> x = PySide6.QtCore.QPointF(225.000000, 82.000000)\n",
      "<class 'PySide6.QtGui.QMouseEvent'> x = PySide6.QtCore.QPointF(208.000000, 81.000000)\n",
      "<class 'PySide6.QtGui.QMouseEvent'> x = PySide6.QtCore.QPointF(187.000000, 79.000000)\n",
      "<class 'PySide6.QtGui.QMouseEvent'> x = PySide6.QtCore.QPointF(172.000000, 76.000000)\n",
      "<class 'PySide6.QtGui.QMouseEvent'> x = PySide6.QtCore.QPointF(158.000000, 74.000000)\n",
      "<class 'PySide6.QtGui.QMouseEvent'> x = PySide6.QtCore.QPointF(145.000000, 72.000000)\n",
      "<class 'PySide6.QtGui.QMouseEvent'> x = PySide6.QtCore.QPointF(134.000000, 71.000000)\n",
      "<class 'PySide6.QtGui.QMouseEvent'> x = PySide6.QtCore.QPointF(122.000000, 71.000000)\n",
      "<class 'PySide6.QtGui.QMouseEvent'> x = PySide6.QtCore.QPointF(113.000000, 70.000000)\n",
      "<class 'PySide6.QtGui.QMouseEvent'> x = PySide6.QtCore.QPointF(105.000000, 69.000000)\n",
      "<class 'PySide6.QtGui.QMouseEvent'> x = PySide6.QtCore.QPointF(99.000000, 69.000000)\n",
      "<class 'PySide6.QtGui.QMouseEvent'> x = PySide6.QtCore.QPointF(96.000000, 69.000000)\n",
      "<class 'PySide6.QtGui.QMouseEvent'> x = PySide6.QtCore.QPointF(95.000000, 69.000000)\n",
      "<class 'PySide6.QtGui.QMouseEvent'> x = PySide6.QtCore.QPointF(94.000000, 69.000000)\n",
      "<class 'PySide6.QtGui.QMouseEvent'> x = PySide6.QtCore.QPointF(93.000000, 69.000000)\n",
      "<class 'PySide6.QtGui.QMouseEvent'> x = PySide6.QtCore.QPointF(92.000000, 69.000000)\n",
      "<class 'PySide6.QtGui.QMouseEvent'> x = PySide6.QtCore.QPointF(91.000000, 69.000000)\n",
      "<class 'PySide6.QtGui.QMouseEvent'> x = PySide6.QtCore.QPointF(90.000000, 68.000000)\n",
      "<class 'PySide6.QtGui.QMouseEvent'> x = PySide6.QtCore.QPointF(89.000000, 68.000000)\n",
      "<class 'PySide6.QtGui.QMouseEvent'> x = PySide6.QtCore.QPointF(89.000000, 67.000000)\n",
      "<class 'PySide6.QtGui.QMouseEvent'> x = PySide6.QtCore.QPointF(91.000000, 68.000000)\n",
      "<class 'PySide6.QtGui.QMouseEvent'> x = PySide6.QtCore.QPointF(91.000000, 69.000000)\n",
      "<class 'PySide6.QtGui.QMouseEvent'> x = PySide6.QtCore.QPointF(93.000000, 70.000000)\n",
      "<class 'PySide6.QtGui.QMouseEvent'> x = PySide6.QtCore.QPointF(94.000000, 72.000000)\n",
      "<class 'PySide6.QtGui.QMouseEvent'> x = PySide6.QtCore.QPointF(96.000000, 73.000000)\n",
      "<class 'PySide6.QtGui.QMouseEvent'> x = PySide6.QtCore.QPointF(97.000000, 75.000000)\n",
      "<class 'PySide6.QtGui.QMouseEvent'> x = PySide6.QtCore.QPointF(98.000000, 76.000000)\n",
      "<class 'PySide6.QtGui.QMouseEvent'> x = PySide6.QtCore.QPointF(102.000000, 78.000000)\n",
      "<class 'PySide6.QtGui.QMouseEvent'> x = PySide6.QtCore.QPointF(103.000000, 79.000000)\n",
      "<class 'PySide6.QtGui.QMouseEvent'> x = PySide6.QtCore.QPointF(104.000000, 80.000000)\n",
      "<class 'PySide6.QtGui.QMouseEvent'> x = PySide6.QtCore.QPointF(106.000000, 81.000000)\n",
      "<class 'PySide6.QtGui.QMouseEvent'> x = PySide6.QtCore.QPointF(107.000000, 81.000000)\n",
      "<class 'PySide6.QtGui.QMouseEvent'> x = PySide6.QtCore.QPointF(109.000000, 81.000000)\n",
      "<class 'PySide6.QtGui.QMouseEvent'> x = PySide6.QtCore.QPointF(111.000000, 81.000000)\n",
      "<class 'PySide6.QtGui.QMouseEvent'> x = PySide6.QtCore.QPointF(117.000000, 83.000000)\n",
      "<class 'PySide6.QtGui.QMouseEvent'> x = PySide6.QtCore.QPointF(127.000000, 85.000000)\n",
      "<class 'PySide6.QtGui.QMouseEvent'> x = PySide6.QtCore.QPointF(140.000000, 87.000000)\n",
      "<class 'PySide6.QtGui.QMouseEvent'> x = PySide6.QtCore.QPointF(154.000000, 90.000000)\n",
      "<class 'PySide6.QtGui.QMouseEvent'> x = PySide6.QtCore.QPointF(175.000000, 92.000000)\n",
      "<class 'PySide6.QtGui.QMouseEvent'> x = PySide6.QtCore.QPointF(203.000000, 95.000000)\n",
      "<class 'PySide6.QtGui.QMouseEvent'> x = PySide6.QtCore.QPointF(242.000000, 99.000000)\n",
      "<class 'PySide6.QtGui.QMouseEvent'> x = PySide6.QtCore.QPointF(283.000000, 103.000000)\n",
      "정상적으로 종료 되었을까...[0]\n"
     ]
    }
   ],
   "source": [
    "## Ex 7-4. 이벤트 핸들러 재구성하기2.\n",
    "\n",
    "import sys\n",
    "from PySide6.QtWidgets import QApplication, QWidget, QLabel\n",
    "\n",
    "\n",
    "class MyApp(QWidget):\n",
    "\n",
    "    def __init__(self):\n",
    "        super().__init__()\n",
    "        self.initUI()\n",
    "\n",
    "    def initUI(self):\n",
    "        x = 0\n",
    "        y = 0\n",
    "\n",
    "        self.text = 'x: {0}, y: {1}'.format(x, y)\n",
    "        self.label = QLabel(self.text, self)\n",
    "        self.label.move(20, 20)\n",
    "\n",
    "        self.setMouseTracking(True)\n",
    "\n",
    "        self.setWindowTitle('Reimplementing event handler')\n",
    "        self.setGeometry(300, 300, 300, 200)\n",
    "        self.show()\n",
    "\n",
    "    def mouseMoveEvent(self, e):\n",
    "        x = e.position()\n",
    "        print(f\"{type(e)} {x = }\")\n",
    "        x = e.globalPosition().x()  # e.position().x()\n",
    "        y = e.globalPosition().y()  # e.position().y()\n",
    "\n",
    "        text = 'x: {0}, y: {1}'.format(x, y)\n",
    "        self.label.setText(text)\n",
    "        self.label.adjustSize()\n",
    "\n",
    "if __name__ == \"__main__\":\n",
    "    if not QApplication.instance():\n",
    "        app = QApplication(sys.argv)\n",
    "    else:\n",
    "        app = QApplication.instance()\n",
    "\n",
    "    exe = MyApp()\n",
    "\n",
    "    try:\n",
    "        sys.exit(app.exec())\n",
    "    except SystemExit as e:\n",
    "        print(f\"정상적으로 종료 되었을까...[{0}]\")"
   ],
   "metadata": {
    "collapsed": false,
    "pycharm": {
     "name": "#%%\n"
    }
   }
  }
 ],
 "metadata": {
  "kernelspec": {
   "display_name": "Python 3",
   "language": "python",
   "name": "python3"
  },
  "language_info": {
   "codemirror_mode": {
    "name": "ipython",
    "version": 2
   },
   "file_extension": ".py",
   "mimetype": "text/x-python",
   "name": "python",
   "nbconvert_exporter": "python",
   "pygments_lexer": "ipython2",
   "version": "2.7.6"
  }
 },
 "nbformat": 4,
 "nbformat_minor": 0
}