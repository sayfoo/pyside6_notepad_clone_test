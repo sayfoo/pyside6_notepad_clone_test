{
 "cells": [
  {
   "cell_type": "code",
   "execution_count": 1,
   "outputs": [
    {
     "data": {
      "text/plain": "'D:\\\\PyCharmProjects\\\\pyside6_notepad_clone_test\\\\Signal_and_slot'"
     },
     "execution_count": 1,
     "metadata": {},
     "output_type": "execute_result"
    }
   ],
   "source": [
    "pwd"
   ],
   "metadata": {
    "collapsed": false,
    "pycharm": {
     "name": "#%%\n"
    }
   }
  },
  {
   "cell_type": "markdown",
   "source": [
    "# 사용자 정의 시그널\n",
    "\n",
    "\n",
    "지정되어 있는 시그널 말고, 새로 원하는 시그널을 만들어서 사용할 수도 있습니다.\n",
    "\n",
    "이번 예제에서는 pyqtSignal()을 이용해서 사용자 정의 시그널을 만들고, 특정 이벤트가 발생했을 때 이 시그널이 방출되도록 해보겠습니다."
   ],
   "metadata": {
    "collapsed": false,
    "pycharm": {
     "name": "#%% md\n"
    }
   }
  },
  {
   "cell_type": "code",
   "execution_count": 6,
   "outputs": [
    {
     "name": "stdout",
     "output_type": "stream",
     "text": [
      "Default style: fusion\n",
      "fusion\n",
      "정상적으로 종료가 되었을까...[0]\n"
     ]
    }
   ],
   "source": [
    "## Ex 7-5. 사용자 정의 시그널.\n",
    "\n",
    "import sys\n",
    "# rename all pyqtSignal to Signal elsewhere in your code.\n",
    "# from PySide6.QtCore import pyqtSignal, QObject\n",
    "from PySide6.QtCore import Signal, QObject, Qt\n",
    "from PySide6.QtWidgets import QApplication, QMainWindow, QStyleFactory\n",
    "\n",
    "\n",
    "class Communicate(QObject):\n",
    "\n",
    "    closeApp = Signal()\n",
    "\n",
    "\n",
    "class MyApp(QMainWindow):\n",
    "\n",
    "    def __init__(self):\n",
    "        super().__init__()\n",
    "        self.initUI()\n",
    "\n",
    "    def initUI(self):\n",
    "        self.c = Communicate()\n",
    "        self.c.closeApp.connect(self.close)\n",
    "\n",
    "        self.setWindowTitle('Emitting Signal')\n",
    "        self.setGeometry(300, 300, 300, 200)\n",
    "        #---------------------------------------------------------------------------------------------------#\n",
    "        #                       setWindowFlag : set Qt.FramelessWindowHint on the window\n",
    "        #---------------------------------------------------------------------------------------------------#\n",
    "        # self.setWindowFlag(Qt.FramelessWindowHint)\n",
    "        # self.setWindowFlag(Qt.WindowStaysOnTopHint | Qt.FramelessWindowHint)\n",
    "        self.setWindowFlags(Qt.WindowStaysOnTopHint | Qt.FramelessWindowHint)\n",
    "        self.show()\n",
    "\n",
    "# mousePressEvent 이벤트 핸들러를 사용해서, 마우스를 클릭했을 때 closeApp 시그널이 방출되도록 했습니다.\n",
    "    def mousePressEvent(self, e):\n",
    "        self.c.closeApp.emit()  # closeApp 시그널이 방출\n",
    "\n",
    "if __name__ == \"__main__\":\n",
    "    if not QApplication.instance():\n",
    "        app = QApplication(sys.argv)\n",
    "    else:\n",
    "        app = QApplication.instance()\n",
    "        app.setStyle(QStyleFactory.create(\"Fusion\"))\n",
    "        print(f\"Default style: {app.style().name()}\")\n",
    "        print(app.style().objectName())\n",
    "\n",
    "    exe = MyApp()\n",
    "    try:\n",
    "        sys.exit(app.exec())\n",
    "    except SystemExit as e:\n",
    "        print(f\"정상적으로 종료가 되었을까...[{e}]\")"
   ],
   "metadata": {
    "collapsed": false,
    "pycharm": {
     "name": "#%%\n"
    }
   }
  },
  {
   "cell_type": "code",
   "execution_count": 5,
   "outputs": [
    {
     "data": {
      "text/plain": "['BypassGraphicsProxyWidget',\n 'BypassWindowManagerHint',\n 'CoverWindow',\n 'CustomizeWindowHint',\n 'Desktop',\n 'Dialog',\n 'Drawer',\n 'ForeignWindow',\n 'FramelessWindowHint',\n 'MSWindowsFixedSizeDialogHint',\n 'MSWindowsOwnDC',\n 'MacWindowToolBarButtonHint',\n 'MaximizeUsingFullscreenGeometryHint',\n 'NoDropShadowWindowHint',\n 'Popup',\n 'Sheet',\n 'SplashScreen',\n 'SubWindow',\n 'Tool',\n 'ToolTip',\n 'Widget',\n 'Window',\n 'WindowCloseButtonHint',\n 'WindowContextHelpButtonHint',\n 'WindowDoesNotAcceptFocus',\n 'WindowFullscreenButtonHint',\n 'WindowMaximizeButtonHint',\n 'WindowMinMaxButtonsHint',\n 'WindowMinimizeButtonHint',\n 'WindowOverridesSystemGestures',\n 'WindowShadeButtonHint',\n 'WindowStaysOnBottomHint',\n 'WindowStaysOnTopHint',\n 'WindowSystemMenuHint',\n 'WindowTitleHint',\n 'WindowTransparentForInput',\n 'WindowType_Mask',\n 'X11BypassWindowManagerHint',\n '__add__',\n '__and__',\n '__bool__',\n '__class__',\n '__delattr__',\n '__dir__',\n '__doc__',\n '__eq__',\n '__format__',\n '__ge__',\n '__getattribute__',\n '__gt__',\n '__hash__',\n '__index__',\n '__init__',\n '__init_subclass__',\n '__int__',\n '__invert__',\n '__le__',\n '__lt__',\n '__module__',\n '__mul__',\n '__ne__',\n '__new__',\n '__or__',\n '__pos__',\n '__radd__',\n '__rand__',\n '__reduce__',\n '__reduce_ex__',\n '__repr__',\n '__rmul__',\n '__ror__',\n '__rsub__',\n '__rxor__',\n '__setattr__',\n '__sizeof__',\n '__str__',\n '__sub__',\n '__subclasshook__',\n '__xor__',\n 'name',\n 'values']"
     },
     "execution_count": 5,
     "metadata": {},
     "output_type": "execute_result"
    }
   ],
   "source": [
    "dir(Qt.WindowType)"
   ],
   "metadata": {
    "collapsed": false,
    "pycharm": {
     "name": "#%%\n"
    }
   }
  }
 ],
 "metadata": {
  "kernelspec": {
   "display_name": "Python 3",
   "language": "python",
   "name": "python3"
  },
  "language_info": {
   "codemirror_mode": {
    "name": "ipython",
    "version": 2
   },
   "file_extension": ".py",
   "mimetype": "text/x-python",
   "name": "python",
   "nbconvert_exporter": "python",
   "pygments_lexer": "ipython2",
   "version": "2.7.6"
  }
 },
 "nbformat": 4,
 "nbformat_minor": 0
}