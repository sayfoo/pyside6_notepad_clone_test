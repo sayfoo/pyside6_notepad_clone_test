{
 "cells": [
  {
   "cell_type": "markdown",
   "source": [
    "# 연결하기\n",
    " * 다이얼 위젯으로 조절한 값을 화면에 출력하는 프로그램을 만들어 보겠습니다.\n",
    " * 다이얼의 값이 변할 때 발생하는 시그널이 LCD 화면에 숫자를 표시하는 슬롯과 연결됩니다."
   ],
   "metadata": {
    "collapsed": false,
    "pycharm": {
     "name": "#%% md\n"
    }
   }
  },
  {
   "cell_type": "code",
   "execution_count": 13,
   "outputs": [
    {
     "name": "stdout",
     "output_type": "stream",
     "text": [
      "정상적으로 종료했을까 0\n"
     ]
    }
   ],
   "source": [
    "## Ex 7-1. 연결하기.\n",
    "\n",
    "import sys\n",
    "from PySide6.QtWidgets import (QApplication, QWidget, QLCDNumber, QDial, QVBoxLayout)\n",
    "from PySide6.QtCore import Qt\n",
    "\n",
    "\n",
    "class MyApp(QWidget):\n",
    "\n",
    "    def __init__(self):\n",
    "        super().__init__()\n",
    "        self.initUI()\n",
    "\n",
    "    def initUI(self):\n",
    "        self.lcd = QLCDNumber(self)\n",
    "        self.dial = QDial(self)\n",
    "\n",
    "        self.vbox = QVBoxLayout()\n",
    "        self.vbox.addWidget(self.lcd)\n",
    "        self.vbox.addWidget(self.dial)\n",
    "        self.setLayout(self.vbox)\n",
    "\n",
    "        self.dial.valueChanged.connect(self.lcd.display)\n",
    "\n",
    "        self.setWindowTitle('Signal and Slot')\n",
    "        self.setGeometry(300, 500, 600, 300)\n",
    "        self.show()\n",
    "\n",
    "\n",
    "if __name__ == '__main__':\n",
    "    if not QApplication.instance():\n",
    "        app = QApplication(sys.argv)\n",
    "    else:\n",
    "        app = QApplication.instance()\n",
    "\n",
    "    exe = MyApp()\n",
    "    try:\n",
    "        sys.exit(app.exec())\n",
    "    except SystemExit as e:\n",
    "        print(f\"정상적으로 종료했을까 {e}\")"
   ],
   "metadata": {
    "collapsed": false,
    "pycharm": {
     "name": "#%%\n"
    }
   }
  },
  {
   "cell_type": "code",
   "execution_count": 2,
   "outputs": [],
   "source": [],
   "metadata": {
    "collapsed": false,
    "pycharm": {
     "name": "#%%\n"
    }
   }
  },
  {
   "cell_type": "code",
   "execution_count": 17,
   "outputs": [
    {
     "name": "stdout",
     "output_type": "stream",
     "text": [
      "정상적으로 종료했을까 0\n"
     ]
    }
   ],
   "source": [
    "import sys\n",
    "from PySide6.QtWidgets import (QApplication, QWidget, QLCDNumber, QVBoxLayout, QHBoxLayout,\n",
    "                               QPushButton)\n",
    "from PySide6.QtCore import QTimer, QTime\n",
    "\n",
    "#QLCDNumber 레퍼런스\n",
    "#https://doc.qt.io/qt-5/qlcdnumber.html#setDigitCount\n",
    "\n",
    "class MyApp(QWidget):\n",
    "\n",
    "    def __init__(self):\n",
    "        super().__init__()\n",
    "\n",
    "        self.timer = QTimer(self)\n",
    "        self.timer.setInterval(1000) #시간간격 1초\n",
    "        self.timer.timeout.connect(self.timeout) #timeout 이벤트줄때 connect와 연결\n",
    "\n",
    "        layout = QVBoxLayout() #Layout은 BoxLayout\n",
    "\n",
    "        self.lcd = QLCDNumber() #PyQt에서 전자시계를 표현하는 QLCD클래스\n",
    "        self.lcd.display('') # 디스플레이에 보이는 내용을 비움\n",
    "        self.lcd.setDigitCount(8) #디지털 시계의 자리수\n",
    "        subLayout = QHBoxLayout() #VBoxLayout안에 넣을 가로방향 QHBoxLayout\n",
    "\n",
    "        self.btnStart = QPushButton(\"시작\") #버튼 만듦\n",
    "        self.btnStart.clicked.connect(self.onStartButtonClicked) #버튼이벤트 등록\n",
    "\n",
    "        self.btnStop = QPushButton(\"멈춤\") #멈춤 버튼 만듦\n",
    "        self.btnStop.clicked.connect(self.onStopButtonClicked) # 버튼 이벤트 등록\n",
    "\n",
    "        layout.addWidget(self.lcd) #QLCDNumber 객체화면에 등록\n",
    "\n",
    "        subLayout.addWidget(self.btnStart) #버튼 화면에 등록\n",
    "        subLayout.addWidget(self.btnStop) #버튼 화면에 등록\n",
    "        layout.addLayout(subLayout) #서브 Layout 등록\n",
    "\n",
    "        self.btnStop.setEnabled(False) #클릭시 비활성\n",
    "        self.setLayout(layout)\n",
    "\n",
    "        self.setWindowTitle('QTimer') #윈도우 타이틀\n",
    "        self.setGeometry(100, 100, 600, 280) #윈도우 상단 100, 100, 그림의 크기 width, height\n",
    "        self.show()\n",
    "\n",
    "    def onStartButtonClicked(self):\n",
    "        self.timer.start() #타이머 스레드 시작\n",
    "        self.btnStop.setEnabled(True) #stop버튼 활성\n",
    "        self.btnStart.setEnabled(False) #start버튼 활성\n",
    "\n",
    "    def onStopButtonClicked(self):\n",
    "        self.timer.stop() #타이머 멈춤\n",
    "        self.btnStop.setEnabled(False) #stop버튼 비활성\n",
    "        self.btnStart.setEnabled(True) #start버튼 활성\n",
    "\n",
    "    def timeout(self):\n",
    "        sender = self.sender() #이벤트 객체에 접근자\n",
    "        currentTime = QTime.currentTime().toString(\"hh:mm:ss\") #현재시간 표시 e.g 11:50:32\n",
    "\n",
    "        if id(sender) == id(self.timer): #접근자와 timer가 같으면 화면에 표시\n",
    "            self.lcd.display(currentTime)\n",
    "\n",
    "if __name__ == '__main__':\n",
    "    if not QApplication.instance():\n",
    "        app = QApplication(sys.argv)\n",
    "    else:\n",
    "        app = QApplication.instance()\n",
    "\n",
    "    # app.setStyleSheet(\"\"\"\n",
    "    #                   QWidget {\n",
    "    #                            font-size: 30px; color: blue; border: 2px solid; border-color: red\n",
    "    #                            }\"\"\")\n",
    "    app.setStyleSheet(\"Fusion\")\n",
    "    exe = MyApp()\n",
    "    try:\n",
    "        sys.exit(app.exec())\n",
    "    except SystemExit as e:\n",
    "        print(f\"정상적으로 종료했을까 {e}\")"
   ],
   "metadata": {
    "collapsed": false,
    "pycharm": {
     "name": "#%%\n"
    }
   }
  },
  {
   "cell_type": "code",
   "execution_count": null,
   "outputs": [],
   "source": [],
   "metadata": {
    "collapsed": false,
    "pycharm": {
     "name": "#%%\n"
    }
   }
  }
 ],
 "metadata": {
  "kernelspec": {
   "display_name": "Python 3",
   "language": "python",
   "name": "python3"
  },
  "language_info": {
   "codemirror_mode": {
    "name": "ipython",
    "version": 2
   },
   "file_extension": ".py",
   "mimetype": "text/x-python",
   "name": "python",
   "nbconvert_exporter": "python",
   "pygments_lexer": "ipython2",
   "version": "2.7.6"
  }
 },
 "nbformat": 4,
 "nbformat_minor": 0
}